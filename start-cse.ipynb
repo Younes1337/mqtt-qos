{
 "cells": [
  {
   "cell_type": "markdown",
   "metadata": {},
   "source": [
    "<img style=\"float: right; padding: 10px;\" width=\"200\" src=\"images/logo-onem2m-the-iot-standard.jpg\">\n",
    "\n",
    "\n",
    "# CSE - Runtime\n",
    "\n",
    "## Starting the CSE\n",
    "\n",
    "Executing the following command will start a CSE inside the notebook.\n"
   ]
  },
  {
   "cell_type": "code",
   "execution_count": 1,
   "metadata": {
    "tags": []
   },
   "outputs": [
    {
     "data": {
      "text/html": [
       "<style>.container { width:100% !important; }</style>"
      ],
      "text/plain": [
       "<IPython.core.display.HTML object>"
      ]
     },
     "metadata": {},
     "output_type": "display_data"
    },
    {
     "data": {
      "text/html": [
       "<pre style=\"white-space:pre;overflow-x:auto;line-height:normal;font-family:Menlo,'DejaVu Sans Mono',consolas,'Courier New',monospace\">\n",
       "<span style=\"color: #7f7f7f; text-decoration-color: #7f7f7f\">[</span><span style=\"color: #800000; text-decoration-color: #800000; font-style: italic\">ACME</span><span style=\"color: #7f7f7f; text-decoration-color: #7f7f7f\">]</span> 0.10.2 - <span style=\"font-weight: bold\">An open source CSE Middleware for Education</span>\n",
       "\n",
       "\n",
       "</pre>\n"
      ],
      "text/plain": [
       "\n",
       "\u001b[2m[\u001b[0m\u001b[3;31mACME\u001b[0m\u001b[2m]\u001b[0m 0.10.2 - \u001b[1mAn open source CSE Middleware for Education\u001b[0m\n",
       "\n",
       "\n"
      ]
     },
     "metadata": {},
     "output_type": "display_data"
    },
    {
     "data": {
      "text/html": [
       "<pre style=\"white-space:pre;overflow-x:auto;line-height:normal;font-family:Menlo,'DejaVu Sans Mono',consolas,'Courier New',monospace\"><span style=\"color: #7fbfbf; text-decoration-color: #7fbfbf\">[19:39:53] </span><span style=\"color: #000080; text-decoration-color: #000080\">INFO   </span> <span style=\"color: #d8d8d8; text-decoration-color: #d8d8d8\">MainThread - </span>Console initialized                                                   <span style=\"color: #7f7f7f; text-decoration-color: #7f7f7f\">Console.py:87</span>\n",
       "</pre>\n"
      ],
      "text/plain": [
       "\u001b[2;36m[19:39:53]\u001b[0m\u001b[2;36m \u001b[0m\u001b[34mINFO   \u001b[0m \u001b[2;38;5;249mMainThread - \u001b[0mConsole initialized                                                   \u001b[2mConsole.py\u001b[0m\u001b[2m:\u001b[0m\u001b[2m87\u001b[0m\n"
      ]
     },
     "metadata": {},
     "output_type": "display_data"
    },
    {
     "data": {
      "text/html": [
       "<pre style=\"white-space:pre;overflow-x:auto;line-height:normal;font-family:Menlo,'DejaVu Sans Mono',consolas,'Courier New',monospace\"><span style=\"color: #7fbfbf; text-decoration-color: #7fbfbf\">           </span><span style=\"color: #000080; text-decoration-color: #000080\">INFO   </span> <span style=\"color: #d8d8d8; text-decoration-color: #d8d8d8\">MainThread - </span>Cache Size: 0                                                        <span style=\"color: #7f7f7f; text-decoration-color: #7f7f7f\">Storage.py:339</span>\n",
       "</pre>\n"
      ],
      "text/plain": [
       "\u001b[2;36m          \u001b[0m\u001b[2;36m \u001b[0m\u001b[34mINFO   \u001b[0m \u001b[2;38;5;249mMainThread - \u001b[0mCache Size: 0                                                        \u001b[2mStorage.py\u001b[0m\u001b[2m:\u001b[0m\u001b[2m339\u001b[0m\n"
      ]
     },
     "metadata": {},
     "output_type": "display_data"
    },
    {
     "data": {
      "text/html": [
       "<pre style=\"white-space:pre;overflow-x:auto;line-height:normal;font-family:Menlo,'DejaVu Sans Mono',consolas,'Courier New',monospace\"><span style=\"color: #7fbfbf; text-decoration-color: #7fbfbf\">           </span><span style=\"color: #000080; text-decoration-color: #000080\">INFO   </span> <span style=\"color: #d8d8d8; text-decoration-color: #d8d8d8\">MainThread - </span>DB in memory                                                         <span style=\"color: #7f7f7f; text-decoration-color: #7f7f7f\">Storage.py:357</span>\n",
       "</pre>\n"
      ],
      "text/plain": [
       "\u001b[2;36m          \u001b[0m\u001b[2;36m \u001b[0m\u001b[34mINFO   \u001b[0m \u001b[2;38;5;249mMainThread - \u001b[0mDB in memory                                                         \u001b[2mStorage.py\u001b[0m\u001b[2m:\u001b[0m\u001b[2m357\u001b[0m\n"
      ]
     },
     "metadata": {},
     "output_type": "display_data"
    },
    {
     "data": {
      "text/html": [
       "<pre style=\"white-space:pre;overflow-x:auto;line-height:normal;font-family:Menlo,'DejaVu Sans Mono',consolas,'Courier New',monospace\"><span style=\"color: #7fbfbf; text-decoration-color: #7fbfbf\">           </span><span style=\"color: #000080; text-decoration-color: #000080\">INFO   </span> <span style=\"color: #d8d8d8; text-decoration-color: #d8d8d8\">MainThread - </span>Storage initialized                                                   <span style=\"color: #7f7f7f; text-decoration-color: #7f7f7f\">Storage.py:64</span>\n",
       "</pre>\n"
      ],
      "text/plain": [
       "\u001b[2;36m          \u001b[0m\u001b[2;36m \u001b[0m\u001b[34mINFO   \u001b[0m \u001b[2;38;5;249mMainThread - \u001b[0mStorage initialized                                                   \u001b[2mStorage.py\u001b[0m\u001b[2m:\u001b[0m\u001b[2m64\u001b[0m\n"
      ]
     },
     "metadata": {},
     "output_type": "display_data"
    },
    {
     "data": {
      "text/html": [
       "<pre style=\"white-space:pre;overflow-x:auto;line-height:normal;font-family:Menlo,'DejaVu Sans Mono',consolas,'Courier New',monospace\"><span style=\"color: #7fbfbf; text-decoration-color: #7fbfbf\">           </span><span style=\"color: #000080; text-decoration-color: #000080\">INFO   </span> <span style=\"color: #d8d8d8; text-decoration-color: #d8d8d8\">MainThread - </span>Starting CSE                                                             <span style=\"color: #7f7f7f; text-decoration-color: #7f7f7f\">CSE.py:133</span>\n",
       "</pre>\n"
      ],
      "text/plain": [
       "\u001b[2;36m          \u001b[0m\u001b[2;36m \u001b[0m\u001b[34mINFO   \u001b[0m \u001b[2;38;5;249mMainThread - \u001b[0mStarting CSE                                                             \u001b[2mCSE.py\u001b[0m\u001b[2m:\u001b[0m\u001b[2m133\u001b[0m\n"
      ]
     },
     "metadata": {},
     "output_type": "display_data"
    },
    {
     "data": {
      "text/html": [
       "<pre style=\"white-space:pre;overflow-x:auto;line-height:normal;font-family:Menlo,'DejaVu Sans Mono',consolas,'Courier New',monospace\"><span style=\"color: #7fbfbf; text-decoration-color: #7fbfbf\">           </span><span style=\"color: #000080; text-decoration-color: #000080\">INFO   </span> <span style=\"color: #d8d8d8; text-decoration-color: #d8d8d8\">MainThread - </span>Starting statistics DB thread                                      <span style=\"color: #7f7f7f; text-decoration-color: #7f7f7f\">Statistics.py:75</span>\n",
       "</pre>\n"
      ],
      "text/plain": [
       "\u001b[2;36m          \u001b[0m\u001b[2;36m \u001b[0m\u001b[34mINFO   \u001b[0m \u001b[2;38;5;249mMainThread - \u001b[0mStarting statistics DB thread                                      \u001b[2mStatistics.py\u001b[0m\u001b[2m:\u001b[0m\u001b[2m75\u001b[0m\n"
      ]
     },
     "metadata": {},
     "output_type": "display_data"
    },
    {
     "data": {
      "text/html": [
       "<pre style=\"white-space:pre;overflow-x:auto;line-height:normal;font-family:Menlo,'DejaVu Sans Mono',consolas,'Courier New',monospace\"><span style=\"color: #7fbfbf; text-decoration-color: #7fbfbf\">           </span><span style=\"color: #000080; text-decoration-color: #000080\">INFO   </span> <span style=\"color: #d8d8d8; text-decoration-color: #d8d8d8\">MainThread - </span>CSE-Type: IN                                                             <span style=\"color: #7f7f7f; text-decoration-color: #7f7f7f\">CSE.py:134</span>\n",
       "</pre>\n"
      ],
      "text/plain": [
       "\u001b[2;36m          \u001b[0m\u001b[2;36m \u001b[0m\u001b[34mINFO   \u001b[0m \u001b[2;38;5;249mMainThread - \u001b[0mCSE-Type: IN                                                             \u001b[2mCSE.py\u001b[0m\u001b[2m:\u001b[0m\u001b[2m134\u001b[0m\n"
      ]
     },
     "metadata": {},
     "output_type": "display_data"
    },
    {
     "data": {
      "text/html": [
       "<pre style=\"white-space:pre;overflow-x:auto;line-height:normal;font-family:Menlo,'DejaVu Sans Mono',consolas,'Courier New',monospace\"><span style=\"color: #7fbfbf; text-decoration-color: #7fbfbf\">           </span><span style=\"color: #000080; text-decoration-color: #000080\">INFO   </span> <span style=\"color: #d8d8d8; text-decoration-color: #d8d8d8\">MainThread - </span>Configuration:                                                           <span style=\"color: #7f7f7f; text-decoration-color: #7f7f7f\">CSE.py:135</span>\n",
       "<span style=\"color: #7fbfbf; text-decoration-color: #7fbfbf\">           </span>          configfile = acme.ini                                                               <span style=\"color: #7f7f7f; text-decoration-color: #7f7f7f\">          </span>\n",
       "<span style=\"color: #7fbfbf; text-decoration-color: #7fbfbf\">           </span>          packageDirectory =                                                                  <span style=\"color: #7f7f7f; text-decoration-color: #7f7f7f\">          </span>\n",
       "<span style=\"color: #7fbfbf; text-decoration-color: #7fbfbf\">           </span>        c:\\Users\\user\\OneDrive\\Bureau\\Test\\Qos-Management\\tools\\ACME\\acme                     <span style=\"color: #7f7f7f; text-decoration-color: #7f7f7f\">          </span>\n",
       "<span style=\"color: #7fbfbf; text-decoration-color: #7fbfbf\">           </span>          cse.type = IN                                                                       <span style=\"color: #7f7f7f; text-decoration-color: #7f7f7f\">          </span>\n",
       "<span style=\"color: #7fbfbf; text-decoration-color: #7fbfbf\">           </span>          cse.spid = acme.example.com                                                         <span style=\"color: #7f7f7f; text-decoration-color: #7f7f7f\">          </span>\n",
       "<span style=\"color: #7fbfbf; text-decoration-color: #7fbfbf\">           </span>          cse.csi = /id-in                                                                    <span style=\"color: #7f7f7f; text-decoration-color: #7f7f7f\">          </span>\n",
       "<span style=\"color: #7fbfbf; text-decoration-color: #7fbfbf\">           </span>          cse.ri = id-in                                                                      <span style=\"color: #7f7f7f; text-decoration-color: #7f7f7f\">          </span>\n",
       "<span style=\"color: #7fbfbf; text-decoration-color: #7fbfbf\">           </span>          cse.rn = cse-in                                                                     <span style=\"color: #7f7f7f; text-decoration-color: #7f7f7f\">          </span>\n",
       "<span style=\"color: #7fbfbf; text-decoration-color: #7fbfbf\">           </span>          cse.resourcesPath =                                                                 <span style=\"color: #7f7f7f; text-decoration-color: #7f7f7f\">          </span>\n",
       "<span style=\"color: #7fbfbf; text-decoration-color: #7fbfbf\">           </span>        c:\\Users\\user\\OneDrive\\Bureau\\Test\\Qos-Management\\tools\\ACME/init                     <span style=\"color: #7f7f7f; text-decoration-color: #7f7f7f\">          </span>\n",
       "<span style=\"color: #7fbfbf; text-decoration-color: #7fbfbf\">           </span>          cse.expirationDelta = 31536000                                                      <span style=\"color: #7f7f7f; text-decoration-color: #7f7f7f\">          </span>\n",
       "<span style=\"color: #7fbfbf; text-decoration-color: #7fbfbf\">           </span>          cse.maxExpirationDelta = 157680000                                                  <span style=\"color: #7f7f7f; text-decoration-color: #7f7f7f\">          </span>\n",
       "<span style=\"color: #7fbfbf; text-decoration-color: #7fbfbf\">           </span>          cse.requestExpirationDelta = 10.0                                                   <span style=\"color: #7f7f7f; text-decoration-color: #7f7f7f\">          </span>\n",
       "<span style=\"color: #7fbfbf; text-decoration-color: #7fbfbf\">           </span>          cse.originator = CAdmin                                                             <span style=\"color: #7f7f7f; text-decoration-color: #7f7f7f\">          </span>\n",
       "<span style=\"color: #7fbfbf; text-decoration-color: #7fbfbf\">           </span>          cse.enableRemoteCSE = True                                                          <span style=\"color: #7f7f7f; text-decoration-color: #7f7f7f\">          </span>\n",
       "<span style=\"color: #7fbfbf; text-decoration-color: #7fbfbf\">           </span>          cse.sortDiscoveredResources = True                                                  <span style=\"color: #7f7f7f; text-decoration-color: #7f7f7f\">          </span>\n",
       "<span style=\"color: #7fbfbf; text-decoration-color: #7fbfbf\">           </span>          cse.checkExpirationsInterval = 60                                                   <span style=\"color: #7f7f7f; text-decoration-color: #7f7f7f\">          </span>\n",
       "<span style=\"color: #7fbfbf; text-decoration-color: #7fbfbf\">           </span>          cse.flexBlockingPreference = blocking                                               <span style=\"color: #7f7f7f; text-decoration-color: #7f7f7f\">          </span>\n",
       "<span style=\"color: #7fbfbf; text-decoration-color: #7fbfbf\">           </span>          cse.supportedReleaseVersions = [<span style=\"color: #008000; text-decoration-color: #008000\">'2a'</span>, <span style=\"color: #008000; text-decoration-color: #008000\">'3'</span>, <span style=\"color: #008000; text-decoration-color: #008000\">'4'</span>]                                     <span style=\"color: #7f7f7f; text-decoration-color: #7f7f7f\">          </span>\n",
       "<span style=\"color: #7fbfbf; text-decoration-color: #7fbfbf\">           </span>          cse.releaseVersion = 4                                                              <span style=\"color: #7f7f7f; text-decoration-color: #7f7f7f\">          </span>\n",
       "<span style=\"color: #7fbfbf; text-decoration-color: #7fbfbf\">           </span>          cse.defaultSerialization = JSON                                                     <span style=\"color: #7f7f7f; text-decoration-color: #7f7f7f\">          </span>\n",
       "<span style=\"color: #7fbfbf; text-decoration-color: #7fbfbf\">           </span>          cse.security.enableACPChecks = True                                                 <span style=\"color: #7f7f7f; text-decoration-color: #7f7f7f\">          </span>\n",
       "<span style=\"color: #7fbfbf; text-decoration-color: #7fbfbf\">           </span>          cse.security.fullAccessAdmin = True                                                 <span style=\"color: #7f7f7f; text-decoration-color: #7f7f7f\">          </span>\n",
       "<span style=\"color: #7fbfbf; text-decoration-color: #7fbfbf\">           </span>          cse.operation.jobBalanceTarget = 3.0                                                <span style=\"color: #7f7f7f; text-decoration-color: #7f7f7f\">          </span>\n",
       "<span style=\"color: #7fbfbf; text-decoration-color: #7fbfbf\">           </span>          cse.operation.jobBalanceLatency = 1000                                              <span style=\"color: #7f7f7f; text-decoration-color: #7f7f7f\">          </span>\n",
       "<span style=\"color: #7fbfbf; text-decoration-color: #7fbfbf\">           </span>          cse.operation.jobBalanceReduceFactor = 2.0                                          <span style=\"color: #7f7f7f; text-decoration-color: #7f7f7f\">          </span>\n",
       "<span style=\"color: #7fbfbf; text-decoration-color: #7fbfbf\">           </span>          http.listenIF = 127.0.0.1                                                           <span style=\"color: #7f7f7f; text-decoration-color: #7f7f7f\">          </span>\n",
       "<span style=\"color: #7fbfbf; text-decoration-color: #7fbfbf\">           </span>          http.port = 8080                                                                    <span style=\"color: #7f7f7f; text-decoration-color: #7f7f7f\">          </span>\n",
       "<span style=\"color: #7fbfbf; text-decoration-color: #7fbfbf\">           </span>          http.root =                                                                         <span style=\"color: #7f7f7f; text-decoration-color: #7f7f7f\">          </span>\n",
       "<span style=\"color: #7fbfbf; text-decoration-color: #7fbfbf\">           </span>          http.address = <span style=\"color: #ffaf5f; text-decoration-color: #ffaf5f; text-decoration: underline\">http://127.0.0.1:8080</span>                                                <span style=\"color: #7f7f7f; text-decoration-color: #7f7f7f\">          </span>\n",
       "<span style=\"color: #7fbfbf; text-decoration-color: #7fbfbf\">           </span>          http.enableStructureEndpoint = True                                                 <span style=\"color: #7f7f7f; text-decoration-color: #7f7f7f\">          </span>\n",
       "<span style=\"color: #7fbfbf; text-decoration-color: #7fbfbf\">           </span>          http.enableUpperTesterEndpoint = True                                               <span style=\"color: #7f7f7f; text-decoration-color: #7f7f7f\">          </span>\n",
       "<span style=\"color: #7fbfbf; text-decoration-color: #7fbfbf\">           </span>          http.allowPatchForDelete = False                                                    <span style=\"color: #7f7f7f; text-decoration-color: #7f7f7f\">          </span>\n",
       "<span style=\"color: #7fbfbf; text-decoration-color: #7fbfbf\">           </span>          http.security.useTLS = False                                                        <span style=\"color: #7f7f7f; text-decoration-color: #7f7f7f\">          </span>\n",
       "<span style=\"color: #7fbfbf; text-decoration-color: #7fbfbf\">           </span>          http.security.tlsVersion = auto                                                     <span style=\"color: #7f7f7f; text-decoration-color: #7f7f7f\">          </span>\n",
       "<span style=\"color: #7fbfbf; text-decoration-color: #7fbfbf\">           </span>          http.security.verifyCertificate = False                                             <span style=\"color: #7f7f7f; text-decoration-color: #7f7f7f\">          </span>\n",
       "<span style=\"color: #7fbfbf; text-decoration-color: #7fbfbf\">           </span>          http.security.caCertificateFile = <span style=\"color: #800080; text-decoration-color: #800080; font-style: italic\">None</span>                                              <span style=\"color: #7f7f7f; text-decoration-color: #7f7f7f\">          </span>\n",
       "<span style=\"color: #7fbfbf; text-decoration-color: #7fbfbf\">           </span>          http.security.caPrivateKeyFile = <span style=\"color: #800080; text-decoration-color: #800080; font-style: italic\">None</span>                                               <span style=\"color: #7f7f7f; text-decoration-color: #7f7f7f\">          </span>\n",
       "<span style=\"color: #7fbfbf; text-decoration-color: #7fbfbf\">           </span>          mqtt.enable = True                                                                  <span style=\"color: #7f7f7f; text-decoration-color: #7f7f7f\">          </span>\n",
       "<span style=\"color: #7fbfbf; text-decoration-color: #7fbfbf\">           </span>          mqtt.address = efd3d6db.ala.us-east-1.emqxsl.com                                    <span style=\"color: #7f7f7f; text-decoration-color: #7f7f7f\">          </span>\n",
       "<span style=\"color: #7fbfbf; text-decoration-color: #7fbfbf\">           </span>          mqtt.port = 8883                                                                    <span style=\"color: #7f7f7f; text-decoration-color: #7f7f7f\">          </span>\n",
       "<span style=\"color: #7fbfbf; text-decoration-color: #7fbfbf\">           </span>          mqtt.keepalive = 60                                                                 <span style=\"color: #7f7f7f; text-decoration-color: #7f7f7f\">          </span>\n",
       "<span style=\"color: #7fbfbf; text-decoration-color: #7fbfbf\">           </span>          mqtt.listenIF = 0.0.0.0                                                             <span style=\"color: #7f7f7f; text-decoration-color: #7f7f7f\">          </span>\n",
       "<span style=\"color: #7fbfbf; text-decoration-color: #7fbfbf\">           </span>          mqtt.topicPrefix = Test                                                             <span style=\"color: #7f7f7f; text-decoration-color: #7f7f7f\">          </span>\n",
       "<span style=\"color: #7fbfbf; text-decoration-color: #7fbfbf\">           </span>          mqtt.timeout = 5.0                                                                  <span style=\"color: #7f7f7f; text-decoration-color: #7f7f7f\">          </span>\n",
       "<span style=\"color: #7fbfbf; text-decoration-color: #7fbfbf\">           </span>          mqtt.security.useTLS = True                                                         <span style=\"color: #7f7f7f; text-decoration-color: #7f7f7f\">          </span>\n",
       "<span style=\"color: #7fbfbf; text-decoration-color: #7fbfbf\">           </span>          mqtt.security.verifyCertificate = True                                              <span style=\"color: #7f7f7f; text-decoration-color: #7f7f7f\">          </span>\n",
       "<span style=\"color: #7fbfbf; text-decoration-color: #7fbfbf\">           </span>          mqtt.security.caCertificateFile =                                                   <span style=\"color: #7f7f7f; text-decoration-color: #7f7f7f\">          </span>\n",
       "<span style=\"color: #7fbfbf; text-decoration-color: #7fbfbf\">           </span>        C:\\Users\\user\\OneDrive\\Bureau\\Test\\Qos-Management\\caCertificateFile\\emqxsl-ca.crt     <span style=\"color: #7f7f7f; text-decoration-color: #7f7f7f\">          </span>\n",
       "<span style=\"color: #7fbfbf; text-decoration-color: #7fbfbf\">           </span>          mqtt.security.username = Younes                                                     <span style=\"color: #7f7f7f; text-decoration-color: #7f7f7f\">          </span>\n",
       "<span style=\"color: #7fbfbf; text-decoration-color: #7fbfbf\">           </span>          mqtt.security.password = Youness133723@                                             <span style=\"color: #7f7f7f; text-decoration-color: #7f7f7f\">          </span>\n",
       "<span style=\"color: #7fbfbf; text-decoration-color: #7fbfbf\">           </span>          mqtt.security.allowedCredentialIDs = [<span style=\"color: #008000; text-decoration-color: #008000\">'[]'</span>]                                         <span style=\"color: #7f7f7f; text-decoration-color: #7f7f7f\">          </span>\n",
       "<span style=\"color: #7fbfbf; text-decoration-color: #7fbfbf\">           </span>          db.path = c:\\Users\\user\\OneDrive\\Bureau\\Test\\Qos-Management\\tools\\ACME/data         <span style=\"color: #7f7f7f; text-decoration-color: #7f7f7f\">          </span>\n",
       "<span style=\"color: #7fbfbf; text-decoration-color: #7fbfbf\">           </span>          db.inMemory = True                                                                  <span style=\"color: #7f7f7f; text-decoration-color: #7f7f7f\">          </span>\n",
       "<span style=\"color: #7fbfbf; text-decoration-color: #7fbfbf\">           </span>          db.cacheSize = 0                                                                    <span style=\"color: #7f7f7f; text-decoration-color: #7f7f7f\">          </span>\n",
       "<span style=\"color: #7fbfbf; text-decoration-color: #7fbfbf\">           </span>          db.resetOnStartup = False                                                           <span style=\"color: #7f7f7f; text-decoration-color: #7f7f7f\">          </span>\n",
       "<span style=\"color: #7fbfbf; text-decoration-color: #7fbfbf\">           </span>          logging.enableFileLogging = False                                                   <span style=\"color: #7f7f7f; text-decoration-color: #7f7f7f\">          </span>\n",
       "<span style=\"color: #7fbfbf; text-decoration-color: #7fbfbf\">           </span>          logging.enableScreenLogging = True                                                  <span style=\"color: #7f7f7f; text-decoration-color: #7f7f7f\">          </span>\n",
       "<span style=\"color: #7fbfbf; text-decoration-color: #7fbfbf\">           </span>          logging.path = c:\\Users\\user\\OneDrive\\Bureau\\Test\\Qos-Management\\tools\\ACME/logs    <span style=\"color: #7f7f7f; text-decoration-color: #7f7f7f\">          </span>\n",
       "<span style=\"color: #7fbfbf; text-decoration-color: #7fbfbf\">           </span>          logging.level = INFO                                                                <span style=\"color: #7f7f7f; text-decoration-color: #7f7f7f\">          </span>\n",
       "<span style=\"color: #7fbfbf; text-decoration-color: #7fbfbf\">           </span>          logging.size = 100000                                                               <span style=\"color: #7f7f7f; text-decoration-color: #7f7f7f\">          </span>\n",
       "<span style=\"color: #7fbfbf; text-decoration-color: #7fbfbf\">           </span>          logging.count = 10                                                                  <span style=\"color: #7f7f7f; text-decoration-color: #7f7f7f\">          </span>\n",
       "<span style=\"color: #7fbfbf; text-decoration-color: #7fbfbf\">           </span>          logging.stackTraceOnError = False                                                   <span style=\"color: #7f7f7f; text-decoration-color: #7f7f7f\">          </span>\n",
       "<span style=\"color: #7fbfbf; text-decoration-color: #7fbfbf\">           </span>          logging.enableBindingsLogging = False                                               <span style=\"color: #7f7f7f; text-decoration-color: #7f7f7f\">          </span>\n",
       "<span style=\"color: #7fbfbf; text-decoration-color: #7fbfbf\">           </span>          logging.queueSize = 5000                                                            <span style=\"color: #7f7f7f; text-decoration-color: #7f7f7f\">          </span>\n",
       "<span style=\"color: #7fbfbf; text-decoration-color: #7fbfbf\">           </span>          cse.registrar.address = <span style=\"color: #ffaf5f; text-decoration-color: #ffaf5f; text-decoration: underline\">http://127.0.0.1:8080</span>                                       <span style=\"color: #7f7f7f; text-decoration-color: #7f7f7f\">          </span>\n",
       "<span style=\"color: #7fbfbf; text-decoration-color: #7fbfbf\">           </span>          cse.registrar.root =                                                                <span style=\"color: #7f7f7f; text-decoration-color: #7f7f7f\">          </span>\n",
       "<span style=\"color: #7fbfbf; text-decoration-color: #7fbfbf\">           </span>          cse.registrar.csi = /id-in                                                          <span style=\"color: #7f7f7f; text-decoration-color: #7f7f7f\">          </span>\n",
       "<span style=\"color: #7fbfbf; text-decoration-color: #7fbfbf\">           </span>          cse.registrar.rn = cse-in                                                           <span style=\"color: #7f7f7f; text-decoration-color: #7f7f7f\">          </span>\n",
       "<span style=\"color: #7fbfbf; text-decoration-color: #7fbfbf\">           </span>          cse.registrar.checkInterval = 30                                                    <span style=\"color: #7f7f7f; text-decoration-color: #7f7f7f\">          </span>\n",
       "<span style=\"color: #7fbfbf; text-decoration-color: #7fbfbf\">           </span>          cse.registrar.excludeCSRAttributes = [<span style=\"color: #008000; text-decoration-color: #008000\">''</span>]                                           <span style=\"color: #7f7f7f; text-decoration-color: #7f7f7f\">          </span>\n",
       "<span style=\"color: #7fbfbf; text-decoration-color: #7fbfbf\">           </span>          cse.registrar.serialization = JSON                                                  <span style=\"color: #7f7f7f; text-decoration-color: #7f7f7f\">          </span>\n",
       "<span style=\"color: #7fbfbf; text-decoration-color: #7fbfbf\">           </span>          cse.registration.allowedAEOriginators = [<span style=\"color: #008000; text-decoration-color: #008000\">'C*'</span>, <span style=\"color: #008000; text-decoration-color: #008000\">'S*'</span>]                                <span style=\"color: #7f7f7f; text-decoration-color: #7f7f7f\">          </span>\n",
       "<span style=\"color: #7fbfbf; text-decoration-color: #7fbfbf\">           </span>          cse.registration.allowedCSROriginators = [<span style=\"color: #008000; text-decoration-color: #008000\">''</span>]                                       <span style=\"color: #7f7f7f; text-decoration-color: #7f7f7f\">          </span>\n",
       "<span style=\"color: #7fbfbf; text-decoration-color: #7fbfbf\">           </span>          cse.registration.checkLiveliness = True                                             <span style=\"color: #7f7f7f; text-decoration-color: #7f7f7f\">          </span>\n",
       "<span style=\"color: #7fbfbf; text-decoration-color: #7fbfbf\">           </span>          cse.announcements.checkInterval = 10                                                <span style=\"color: #7f7f7f; text-decoration-color: #7f7f7f\">          </span>\n",
       "<span style=\"color: #7fbfbf; text-decoration-color: #7fbfbf\">           </span>          cse.statistics.enable = True                                                        <span style=\"color: #7f7f7f; text-decoration-color: #7f7f7f\">          </span>\n",
       "<span style=\"color: #7fbfbf; text-decoration-color: #7fbfbf\">           </span>          cse.statistics.writeInterval = 60                                                   <span style=\"color: #7f7f7f; text-decoration-color: #7f7f7f\">          </span>\n",
       "<span style=\"color: #7fbfbf; text-decoration-color: #7fbfbf\">           </span>          cse.acp.pv.acop = 63                                                                <span style=\"color: #7f7f7f; text-decoration-color: #7f7f7f\">          </span>\n",
       "<span style=\"color: #7fbfbf; text-decoration-color: #7fbfbf\">           </span>          cse.acp.pvs.acop = 51                                                               <span style=\"color: #7f7f7f; text-decoration-color: #7f7f7f\">          </span>\n",
       "<span style=\"color: #7fbfbf; text-decoration-color: #7fbfbf\">           </span>          cse.cnt.enableLimits = False                                                        <span style=\"color: #7f7f7f; text-decoration-color: #7f7f7f\">          </span>\n",
       "<span style=\"color: #7fbfbf; text-decoration-color: #7fbfbf\">           </span>          cse.cnt.mni = 10                                                                    <span style=\"color: #7f7f7f; text-decoration-color: #7f7f7f\">          </span>\n",
       "<span style=\"color: #7fbfbf; text-decoration-color: #7fbfbf\">           </span>          cse.cnt.mbs = 10000                                                                 <span style=\"color: #7f7f7f; text-decoration-color: #7f7f7f\">          </span>\n",
       "<span style=\"color: #7fbfbf; text-decoration-color: #7fbfbf\">           </span>          cse.req.minet = 60                                                                  <span style=\"color: #7f7f7f; text-decoration-color: #7f7f7f\">          </span>\n",
       "<span style=\"color: #7fbfbf; text-decoration-color: #7fbfbf\">           </span>          cse.req.maxet = 180                                                                 <span style=\"color: #7f7f7f; text-decoration-color: #7f7f7f\">          </span>\n",
       "<span style=\"color: #7fbfbf; text-decoration-color: #7fbfbf\">           </span>          cse.sub.dur = 60                                                                    <span style=\"color: #7f7f7f; text-decoration-color: #7f7f7f\">          </span>\n",
       "<span style=\"color: #7fbfbf; text-decoration-color: #7fbfbf\">           </span>          cse.ts.enableLimits = False                                                         <span style=\"color: #7f7f7f; text-decoration-color: #7f7f7f\">          </span>\n",
       "<span style=\"color: #7fbfbf; text-decoration-color: #7fbfbf\">           </span>          cse.ts.mni = 10                                                                     <span style=\"color: #7f7f7f; text-decoration-color: #7f7f7f\">          </span>\n",
       "<span style=\"color: #7fbfbf; text-decoration-color: #7fbfbf\">           </span>          cse.ts.mbs = 10000                                                                  <span style=\"color: #7f7f7f; text-decoration-color: #7f7f7f\">          </span>\n",
       "<span style=\"color: #7fbfbf; text-decoration-color: #7fbfbf\">           </span>          cse.ts.mdn = 10                                                                     <span style=\"color: #7f7f7f; text-decoration-color: #7f7f7f\">          </span>\n",
       "<span style=\"color: #7fbfbf; text-decoration-color: #7fbfbf\">           </span>          cse.tsb.bcni = PT1H                                                                 <span style=\"color: #7f7f7f; text-decoration-color: #7f7f7f\">          </span>\n",
       "<span style=\"color: #7fbfbf; text-decoration-color: #7fbfbf\">           </span>          cse.tsb.bcnt = 60.0                                                                 <span style=\"color: #7f7f7f; text-decoration-color: #7f7f7f\">          </span>\n",
       "<span style=\"color: #7fbfbf; text-decoration-color: #7fbfbf\">           </span>          cse.webui.enable = True                                                             <span style=\"color: #7f7f7f; text-decoration-color: #7f7f7f\">          </span>\n",
       "<span style=\"color: #7fbfbf; text-decoration-color: #7fbfbf\">           </span>          cse.webui.root = /webui                                                             <span style=\"color: #7f7f7f; text-decoration-color: #7f7f7f\">          </span>\n",
       "<span style=\"color: #7fbfbf; text-decoration-color: #7fbfbf\">           </span>          cse.console.refreshInterval = 2.0                                                   <span style=\"color: #7f7f7f; text-decoration-color: #7f7f7f\">          </span>\n",
       "<span style=\"color: #7fbfbf; text-decoration-color: #7fbfbf\">           </span>          cse.console.hideResources = [<span style=\"color: #008000; text-decoration-color: #008000\">'acpCreateACPs'</span>, <span style=\"color: #008000; text-decoration-color: #008000\">'CAdmin'</span>]                             <span style=\"color: #7f7f7f; text-decoration-color: #7f7f7f\">          </span>\n",
       "<span style=\"color: #7fbfbf; text-decoration-color: #7fbfbf\">           </span>          cse.console.treeMode = NORMAL                                                       <span style=\"color: #7f7f7f; text-decoration-color: #7f7f7f\">          </span>\n",
       "<span style=\"color: #7fbfbf; text-decoration-color: #7fbfbf\">           </span>          cse.console.treeIncludeVirtualResources = False                                     <span style=\"color: #7f7f7f; text-decoration-color: #7f7f7f\">          </span>\n",
       "<span style=\"color: #7fbfbf; text-decoration-color: #7fbfbf\">           </span>          cse.console.confirmQuit = False                                                     <span style=\"color: #7f7f7f; text-decoration-color: #7f7f7f\">          </span>\n",
       "<span style=\"color: #7fbfbf; text-decoration-color: #7fbfbf\">           </span>          cse.console.theme = light                                                           <span style=\"color: #7f7f7f; text-decoration-color: #7f7f7f\">          </span>\n",
       "<span style=\"color: #7fbfbf; text-decoration-color: #7fbfbf\">           </span>          cse.scripting.scriptDirectories =                                                   <span style=\"color: #7f7f7f; text-decoration-color: #7f7f7f\">          </span>\n",
       "<span style=\"color: #7fbfbf; text-decoration-color: #7fbfbf\">           </span>        [<span style=\"color: #008000; text-decoration-color: #008000\">'c:\\\\Users\\\\user\\\\OneDrive\\\\Bureau\\\\Test\\\\Qos-Management\\\\tools\\\\ACME/../ACMEScript'</span> <span style=\"color: #7f7f7f; text-decoration-color: #7f7f7f\">          </span>\n",
       "<span style=\"color: #7fbfbf; text-decoration-color: #7fbfbf\">           </span>        ]                                                                                     <span style=\"color: #7f7f7f; text-decoration-color: #7f7f7f\">          </span>\n",
       "<span style=\"color: #7fbfbf; text-decoration-color: #7fbfbf\">           </span>          cse.scripting.verbose = False                                                       <span style=\"color: #7f7f7f; text-decoration-color: #7f7f7f\">          </span>\n",
       "<span style=\"color: #7fbfbf; text-decoration-color: #7fbfbf\">           </span>          cse.scripting.fileMonitoringInterval = 2.0                                          <span style=\"color: #7f7f7f; text-decoration-color: #7f7f7f\">          </span>\n",
       "<span style=\"color: #7fbfbf; text-decoration-color: #7fbfbf\">           </span>          server.http.mappings = [(<span style=\"color: #008000; text-decoration-color: #008000\">'/access/v1/devices'</span>, <span style=\"color: #008000; text-decoration-color: #008000\">'/cse-mn?ty=14&amp;fu=1&amp;fo=2&amp;rcn=8'</span>),    <span style=\"color: #7f7f7f; text-decoration-color: #7f7f7f\">          </span>\n",
       "<span style=\"color: #7fbfbf; text-decoration-color: #7fbfbf\">           </span>        (<span style=\"color: #008000; text-decoration-color: #008000\">'/access/v1/apps'</span>, <span style=\"color: #008000; text-decoration-color: #008000\">'/id-mn?ty=2&amp;fu=1&amp;fo=2&amp;rcn=8'</span>), (<span style=\"color: #008000; text-decoration-color: #008000\">'/access/v1/devices/battery'</span>,    <span style=\"color: #7f7f7f; text-decoration-color: #7f7f7f\">          </span>\n",
       "<span style=\"color: #7fbfbf; text-decoration-color: #7fbfbf\">           </span>        <span style=\"color: #008000; text-decoration-color: #008000\">'/id-mn?ty=14&amp;mgd=1006&amp;fu=1&amp;fo=2&amp;rcn=8'</span>)]                                             <span style=\"color: #7f7f7f; text-decoration-color: #7f7f7f\">          </span>\n",
       "<span style=\"color: #7fbfbf; text-decoration-color: #7fbfbf\">           </span>                                                                                              <span style=\"color: #7f7f7f; text-decoration-color: #7f7f7f\">          </span>\n",
       "</pre>\n"
      ],
      "text/plain": [
       "\u001b[2;36m          \u001b[0m\u001b[2;36m \u001b[0m\u001b[34mINFO   \u001b[0m \u001b[2;38;5;249mMainThread - \u001b[0mConfiguration:                                                           \u001b[2mCSE.py\u001b[0m\u001b[2m:\u001b[0m\u001b[2m135\u001b[0m\n",
       "\u001b[2;36m           \u001b[0m          configfile = acme.ini                                                               \u001b[2m          \u001b[0m\n",
       "\u001b[2;36m           \u001b[0m          packageDirectory =                                                                  \u001b[2m          \u001b[0m\n",
       "\u001b[2;36m           \u001b[0m        c:\\Users\\user\\OneDrive\\Bureau\\Test\\Qos-Management\\tools\\ACME\\acme                     \u001b[2m          \u001b[0m\n",
       "\u001b[2;36m           \u001b[0m          cse.type = IN                                                                       \u001b[2m          \u001b[0m\n",
       "\u001b[2;36m           \u001b[0m          cse.spid = acme.example.com                                                         \u001b[2m          \u001b[0m\n",
       "\u001b[2;36m           \u001b[0m          cse.csi = /id-in                                                                    \u001b[2m          \u001b[0m\n",
       "\u001b[2;36m           \u001b[0m          cse.ri = id-in                                                                      \u001b[2m          \u001b[0m\n",
       "\u001b[2;36m           \u001b[0m          cse.rn = cse-in                                                                     \u001b[2m          \u001b[0m\n",
       "\u001b[2;36m           \u001b[0m          cse.resourcesPath =                                                                 \u001b[2m          \u001b[0m\n",
       "\u001b[2;36m           \u001b[0m        c:\\Users\\user\\OneDrive\\Bureau\\Test\\Qos-Management\\tools\\ACME/init                     \u001b[2m          \u001b[0m\n",
       "\u001b[2;36m           \u001b[0m          cse.expirationDelta = 31536000                                                      \u001b[2m          \u001b[0m\n",
       "\u001b[2;36m           \u001b[0m          cse.maxExpirationDelta = 157680000                                                  \u001b[2m          \u001b[0m\n",
       "\u001b[2;36m           \u001b[0m          cse.requestExpirationDelta = 10.0                                                   \u001b[2m          \u001b[0m\n",
       "\u001b[2;36m           \u001b[0m          cse.originator = CAdmin                                                             \u001b[2m          \u001b[0m\n",
       "\u001b[2;36m           \u001b[0m          cse.enableRemoteCSE = True                                                          \u001b[2m          \u001b[0m\n",
       "\u001b[2;36m           \u001b[0m          cse.sortDiscoveredResources = True                                                  \u001b[2m          \u001b[0m\n",
       "\u001b[2;36m           \u001b[0m          cse.checkExpirationsInterval = 60                                                   \u001b[2m          \u001b[0m\n",
       "\u001b[2;36m           \u001b[0m          cse.flexBlockingPreference = blocking                                               \u001b[2m          \u001b[0m\n",
       "\u001b[2;36m           \u001b[0m          cse.supportedReleaseVersions = [\u001b[32m'2a'\u001b[0m, \u001b[32m'3'\u001b[0m, \u001b[32m'4'\u001b[0m]                                     \u001b[2m          \u001b[0m\n",
       "\u001b[2;36m           \u001b[0m          cse.releaseVersion = 4                                                              \u001b[2m          \u001b[0m\n",
       "\u001b[2;36m           \u001b[0m          cse.defaultSerialization = JSON                                                     \u001b[2m          \u001b[0m\n",
       "\u001b[2;36m           \u001b[0m          cse.security.enableACPChecks = True                                                 \u001b[2m          \u001b[0m\n",
       "\u001b[2;36m           \u001b[0m          cse.security.fullAccessAdmin = True                                                 \u001b[2m          \u001b[0m\n",
       "\u001b[2;36m           \u001b[0m          cse.operation.jobBalanceTarget = 3.0                                                \u001b[2m          \u001b[0m\n",
       "\u001b[2;36m           \u001b[0m          cse.operation.jobBalanceLatency = 1000                                              \u001b[2m          \u001b[0m\n",
       "\u001b[2;36m           \u001b[0m          cse.operation.jobBalanceReduceFactor = 2.0                                          \u001b[2m          \u001b[0m\n",
       "\u001b[2;36m           \u001b[0m          http.listenIF = 127.0.0.1                                                           \u001b[2m          \u001b[0m\n",
       "\u001b[2;36m           \u001b[0m          http.port = 8080                                                                    \u001b[2m          \u001b[0m\n",
       "\u001b[2;36m           \u001b[0m          http.root =                                                                         \u001b[2m          \u001b[0m\n",
       "\u001b[2;36m           \u001b[0m          http.address = \u001b[4;38;5;215mhttp://127.0.0.1:8080\u001b[0m                                                \u001b[2m          \u001b[0m\n",
       "\u001b[2;36m           \u001b[0m          http.enableStructureEndpoint = True                                                 \u001b[2m          \u001b[0m\n",
       "\u001b[2;36m           \u001b[0m          http.enableUpperTesterEndpoint = True                                               \u001b[2m          \u001b[0m\n",
       "\u001b[2;36m           \u001b[0m          http.allowPatchForDelete = False                                                    \u001b[2m          \u001b[0m\n",
       "\u001b[2;36m           \u001b[0m          http.security.useTLS = False                                                        \u001b[2m          \u001b[0m\n",
       "\u001b[2;36m           \u001b[0m          http.security.tlsVersion = auto                                                     \u001b[2m          \u001b[0m\n",
       "\u001b[2;36m           \u001b[0m          http.security.verifyCertificate = False                                             \u001b[2m          \u001b[0m\n",
       "\u001b[2;36m           \u001b[0m          http.security.caCertificateFile = \u001b[3;35mNone\u001b[0m                                              \u001b[2m          \u001b[0m\n",
       "\u001b[2;36m           \u001b[0m          http.security.caPrivateKeyFile = \u001b[3;35mNone\u001b[0m                                               \u001b[2m          \u001b[0m\n",
       "\u001b[2;36m           \u001b[0m          mqtt.enable = True                                                                  \u001b[2m          \u001b[0m\n",
       "\u001b[2;36m           \u001b[0m          mqtt.address = efd3d6db.ala.us-east-1.emqxsl.com                                    \u001b[2m          \u001b[0m\n",
       "\u001b[2;36m           \u001b[0m          mqtt.port = 8883                                                                    \u001b[2m          \u001b[0m\n",
       "\u001b[2;36m           \u001b[0m          mqtt.keepalive = 60                                                                 \u001b[2m          \u001b[0m\n",
       "\u001b[2;36m           \u001b[0m          mqtt.listenIF = 0.0.0.0                                                             \u001b[2m          \u001b[0m\n",
       "\u001b[2;36m           \u001b[0m          mqtt.topicPrefix = Test                                                             \u001b[2m          \u001b[0m\n",
       "\u001b[2;36m           \u001b[0m          mqtt.timeout = 5.0                                                                  \u001b[2m          \u001b[0m\n",
       "\u001b[2;36m           \u001b[0m          mqtt.security.useTLS = True                                                         \u001b[2m          \u001b[0m\n",
       "\u001b[2;36m           \u001b[0m          mqtt.security.verifyCertificate = True                                              \u001b[2m          \u001b[0m\n",
       "\u001b[2;36m           \u001b[0m          mqtt.security.caCertificateFile =                                                   \u001b[2m          \u001b[0m\n",
       "\u001b[2;36m           \u001b[0m        C:\\Users\\user\\OneDrive\\Bureau\\Test\\Qos-Management\\caCertificateFile\\emqxsl-ca.crt     \u001b[2m          \u001b[0m\n",
       "\u001b[2;36m           \u001b[0m          mqtt.security.username = Younes                                                     \u001b[2m          \u001b[0m\n",
       "\u001b[2;36m           \u001b[0m          mqtt.security.password = Youness133723@                                             \u001b[2m          \u001b[0m\n",
       "\u001b[2;36m           \u001b[0m          mqtt.security.allowedCredentialIDs = [\u001b[32m'[]'\u001b[0m]                                         \u001b[2m          \u001b[0m\n",
       "\u001b[2;36m           \u001b[0m          db.path = c:\\Users\\user\\OneDrive\\Bureau\\Test\\Qos-Management\\tools\\ACME/data         \u001b[2m          \u001b[0m\n",
       "\u001b[2;36m           \u001b[0m          db.inMemory = True                                                                  \u001b[2m          \u001b[0m\n",
       "\u001b[2;36m           \u001b[0m          db.cacheSize = 0                                                                    \u001b[2m          \u001b[0m\n",
       "\u001b[2;36m           \u001b[0m          db.resetOnStartup = False                                                           \u001b[2m          \u001b[0m\n",
       "\u001b[2;36m           \u001b[0m          logging.enableFileLogging = False                                                   \u001b[2m          \u001b[0m\n",
       "\u001b[2;36m           \u001b[0m          logging.enableScreenLogging = True                                                  \u001b[2m          \u001b[0m\n",
       "\u001b[2;36m           \u001b[0m          logging.path = c:\\Users\\user\\OneDrive\\Bureau\\Test\\Qos-Management\\tools\\ACME/logs    \u001b[2m          \u001b[0m\n",
       "\u001b[2;36m           \u001b[0m          logging.level = INFO                                                                \u001b[2m          \u001b[0m\n",
       "\u001b[2;36m           \u001b[0m          logging.size = 100000                                                               \u001b[2m          \u001b[0m\n",
       "\u001b[2;36m           \u001b[0m          logging.count = 10                                                                  \u001b[2m          \u001b[0m\n",
       "\u001b[2;36m           \u001b[0m          logging.stackTraceOnError = False                                                   \u001b[2m          \u001b[0m\n",
       "\u001b[2;36m           \u001b[0m          logging.enableBindingsLogging = False                                               \u001b[2m          \u001b[0m\n",
       "\u001b[2;36m           \u001b[0m          logging.queueSize = 5000                                                            \u001b[2m          \u001b[0m\n",
       "\u001b[2;36m           \u001b[0m          cse.registrar.address = \u001b[4;38;5;215mhttp://127.0.0.1:8080\u001b[0m                                       \u001b[2m          \u001b[0m\n",
       "\u001b[2;36m           \u001b[0m          cse.registrar.root =                                                                \u001b[2m          \u001b[0m\n",
       "\u001b[2;36m           \u001b[0m          cse.registrar.csi = /id-in                                                          \u001b[2m          \u001b[0m\n",
       "\u001b[2;36m           \u001b[0m          cse.registrar.rn = cse-in                                                           \u001b[2m          \u001b[0m\n",
       "\u001b[2;36m           \u001b[0m          cse.registrar.checkInterval = 30                                                    \u001b[2m          \u001b[0m\n",
       "\u001b[2;36m           \u001b[0m          cse.registrar.excludeCSRAttributes = [\u001b[32m''\u001b[0m]                                           \u001b[2m          \u001b[0m\n",
       "\u001b[2;36m           \u001b[0m          cse.registrar.serialization = JSON                                                  \u001b[2m          \u001b[0m\n",
       "\u001b[2;36m           \u001b[0m          cse.registration.allowedAEOriginators = [\u001b[32m'C*'\u001b[0m, \u001b[32m'S*'\u001b[0m]                                \u001b[2m          \u001b[0m\n",
       "\u001b[2;36m           \u001b[0m          cse.registration.allowedCSROriginators = [\u001b[32m''\u001b[0m]                                       \u001b[2m          \u001b[0m\n",
       "\u001b[2;36m           \u001b[0m          cse.registration.checkLiveliness = True                                             \u001b[2m          \u001b[0m\n",
       "\u001b[2;36m           \u001b[0m          cse.announcements.checkInterval = 10                                                \u001b[2m          \u001b[0m\n",
       "\u001b[2;36m           \u001b[0m          cse.statistics.enable = True                                                        \u001b[2m          \u001b[0m\n",
       "\u001b[2;36m           \u001b[0m          cse.statistics.writeInterval = 60                                                   \u001b[2m          \u001b[0m\n",
       "\u001b[2;36m           \u001b[0m          cse.acp.pv.acop = 63                                                                \u001b[2m          \u001b[0m\n",
       "\u001b[2;36m           \u001b[0m          cse.acp.pvs.acop = 51                                                               \u001b[2m          \u001b[0m\n",
       "\u001b[2;36m           \u001b[0m          cse.cnt.enableLimits = False                                                        \u001b[2m          \u001b[0m\n",
       "\u001b[2;36m           \u001b[0m          cse.cnt.mni = 10                                                                    \u001b[2m          \u001b[0m\n",
       "\u001b[2;36m           \u001b[0m          cse.cnt.mbs = 10000                                                                 \u001b[2m          \u001b[0m\n",
       "\u001b[2;36m           \u001b[0m          cse.req.minet = 60                                                                  \u001b[2m          \u001b[0m\n",
       "\u001b[2;36m           \u001b[0m          cse.req.maxet = 180                                                                 \u001b[2m          \u001b[0m\n",
       "\u001b[2;36m           \u001b[0m          cse.sub.dur = 60                                                                    \u001b[2m          \u001b[0m\n",
       "\u001b[2;36m           \u001b[0m          cse.ts.enableLimits = False                                                         \u001b[2m          \u001b[0m\n",
       "\u001b[2;36m           \u001b[0m          cse.ts.mni = 10                                                                     \u001b[2m          \u001b[0m\n",
       "\u001b[2;36m           \u001b[0m          cse.ts.mbs = 10000                                                                  \u001b[2m          \u001b[0m\n",
       "\u001b[2;36m           \u001b[0m          cse.ts.mdn = 10                                                                     \u001b[2m          \u001b[0m\n",
       "\u001b[2;36m           \u001b[0m          cse.tsb.bcni = PT1H                                                                 \u001b[2m          \u001b[0m\n",
       "\u001b[2;36m           \u001b[0m          cse.tsb.bcnt = 60.0                                                                 \u001b[2m          \u001b[0m\n",
       "\u001b[2;36m           \u001b[0m          cse.webui.enable = True                                                             \u001b[2m          \u001b[0m\n",
       "\u001b[2;36m           \u001b[0m          cse.webui.root = /webui                                                             \u001b[2m          \u001b[0m\n",
       "\u001b[2;36m           \u001b[0m          cse.console.refreshInterval = 2.0                                                   \u001b[2m          \u001b[0m\n",
       "\u001b[2;36m           \u001b[0m          cse.console.hideResources = [\u001b[32m'acpCreateACPs'\u001b[0m, \u001b[32m'CAdmin'\u001b[0m]                             \u001b[2m          \u001b[0m\n",
       "\u001b[2;36m           \u001b[0m          cse.console.treeMode = NORMAL                                                       \u001b[2m          \u001b[0m\n",
       "\u001b[2;36m           \u001b[0m          cse.console.treeIncludeVirtualResources = False                                     \u001b[2m          \u001b[0m\n",
       "\u001b[2;36m           \u001b[0m          cse.console.confirmQuit = False                                                     \u001b[2m          \u001b[0m\n",
       "\u001b[2;36m           \u001b[0m          cse.console.theme = light                                                           \u001b[2m          \u001b[0m\n",
       "\u001b[2;36m           \u001b[0m          cse.scripting.scriptDirectories =                                                   \u001b[2m          \u001b[0m\n",
       "\u001b[2;36m           \u001b[0m        [\u001b[32m'c:\\\\Users\\\\user\\\\OneDrive\\\\Bureau\\\\Test\\\\Qos-Management\\\\tools\\\\ACME/../ACMEScript'\u001b[0m \u001b[2m          \u001b[0m\n",
       "\u001b[2;36m           \u001b[0m        ]                                                                                     \u001b[2m          \u001b[0m\n",
       "\u001b[2;36m           \u001b[0m          cse.scripting.verbose = False                                                       \u001b[2m          \u001b[0m\n",
       "\u001b[2;36m           \u001b[0m          cse.scripting.fileMonitoringInterval = 2.0                                          \u001b[2m          \u001b[0m\n",
       "\u001b[2;36m           \u001b[0m          server.http.mappings = [(\u001b[32m'/access/v1/devices'\u001b[0m, \u001b[32m'/cse-mn?ty=14&fu=1&fo=2&rcn=8'\u001b[0m),    \u001b[2m          \u001b[0m\n",
       "\u001b[2;36m           \u001b[0m        (\u001b[32m'/access/v1/apps'\u001b[0m, \u001b[32m'/id-mn?ty=2&fu=1&fo=2&rcn=8'\u001b[0m), (\u001b[32m'/access/v1/devices/battery'\u001b[0m,    \u001b[2m          \u001b[0m\n",
       "\u001b[2;36m           \u001b[0m        \u001b[32m'/id-mn?ty=14&mgd=1006&fu=1&fo=2&rcn=8'\u001b[0m)]                                             \u001b[2m          \u001b[0m\n",
       "\u001b[2;36m           \u001b[0m                                                                                              \u001b[2m          \u001b[0m\n"
      ]
     },
     "metadata": {},
     "output_type": "display_data"
    },
    {
     "data": {
      "text/html": [
       "<pre style=\"white-space:pre;overflow-x:auto;line-height:normal;font-family:Menlo,'DejaVu Sans Mono',consolas,'Courier New',monospace\"><span style=\"color: #7fbfbf; text-decoration-color: #7fbfbf\">           </span><span style=\"color: #000080; text-decoration-color: #000080\">INFO   </span> <span style=\"color: #d8d8d8; text-decoration-color: #d8d8d8\">MainThread - </span>Statistics initialized                                            <span style=\"color: #7f7f7f; text-decoration-color: #7f7f7f\">Statistics.py:112</span>\n",
       "</pre>\n"
      ],
      "text/plain": [
       "\u001b[2;36m          \u001b[0m\u001b[2;36m \u001b[0m\u001b[34mINFO   \u001b[0m \u001b[2;38;5;249mMainThread - \u001b[0mStatistics initialized                                            \u001b[2mStatistics.py\u001b[0m\u001b[2m:\u001b[0m\u001b[2m112\u001b[0m\n"
      ]
     },
     "metadata": {},
     "output_type": "display_data"
    },
    {
     "data": {
      "text/html": [
       "<pre style=\"white-space:pre;overflow-x:auto;line-height:normal;font-family:Menlo,'DejaVu Sans Mono',consolas,'Courier New',monospace\"><span style=\"color: #7fbfbf; text-decoration-color: #7fbfbf\">           </span><span style=\"color: #000080; text-decoration-color: #000080\">INFO   </span> <span style=\"color: #d8d8d8; text-decoration-color: #d8d8d8\">MainThread - </span>RegistrationManager initialized                           <span style=\"color: #7f7f7f; text-decoration-color: #7f7f7f\">RegistrationManager.py:39</span>\n",
       "</pre>\n"
      ],
      "text/plain": [
       "\u001b[2;36m          \u001b[0m\u001b[2;36m \u001b[0m\u001b[34mINFO   \u001b[0m \u001b[2;38;5;249mMainThread - \u001b[0mRegistrationManager initialized                           \u001b[2mRegistrationManager.py\u001b[0m\u001b[2m:\u001b[0m\u001b[2m39\u001b[0m\n"
      ]
     },
     "metadata": {},
     "output_type": "display_data"
    },
    {
     "data": {
      "text/html": [
       "<pre style=\"white-space:pre;overflow-x:auto;line-height:normal;font-family:Menlo,'DejaVu Sans Mono',consolas,'Courier New',monospace\"><span style=\"color: #7fbfbf; text-decoration-color: #7fbfbf\">           </span><span style=\"color: #000080; text-decoration-color: #000080\">INFO   </span> <span style=\"color: #d8d8d8; text-decoration-color: #d8d8d8\">MainThread - </span>Validator initialized                                               <span style=\"color: #7f7f7f; text-decoration-color: #7f7f7f\">Validator.py:52</span>\n",
       "</pre>\n"
      ],
      "text/plain": [
       "\u001b[2;36m          \u001b[0m\u001b[2;36m \u001b[0m\u001b[34mINFO   \u001b[0m \u001b[2;38;5;249mMainThread - \u001b[0mValidator initialized                                               \u001b[2mValidator.py\u001b[0m\u001b[2m:\u001b[0m\u001b[2m52\u001b[0m\n"
      ]
     },
     "metadata": {},
     "output_type": "display_data"
    },
    {
     "data": {
      "text/html": [
       "<pre style=\"white-space:pre;overflow-x:auto;line-height:normal;font-family:Menlo,'DejaVu Sans Mono',consolas,'Courier New',monospace\"><span style=\"color: #7fbfbf; text-decoration-color: #7fbfbf\">           </span><span style=\"color: #000080; text-decoration-color: #000080\">INFO   </span> <span style=\"color: #d8d8d8; text-decoration-color: #d8d8d8\">MainThread - </span>Dispatcher initialized                                             <span style=\"color: #7f7f7f; text-decoration-color: #7f7f7f\">Dispatcher.py:42</span>\n",
       "</pre>\n"
      ],
      "text/plain": [
       "\u001b[2;36m          \u001b[0m\u001b[2;36m \u001b[0m\u001b[34mINFO   \u001b[0m \u001b[2;38;5;249mMainThread - \u001b[0mDispatcher initialized                                             \u001b[2mDispatcher.py\u001b[0m\u001b[2m:\u001b[0m\u001b[2m42\u001b[0m\n"
      ]
     },
     "metadata": {},
     "output_type": "display_data"
    },
    {
     "data": {
      "text/html": [
       "<pre style=\"white-space:pre;overflow-x:auto;line-height:normal;font-family:Menlo,'DejaVu Sans Mono',consolas,'Courier New',monospace\"><span style=\"color: #7fbfbf; text-decoration-color: #7fbfbf\">           </span><span style=\"color: #000080; text-decoration-color: #000080\">INFO   </span> <span style=\"color: #d8d8d8; text-decoration-color: #d8d8d8\">MainThread - </span>RequestManager initialized                                     <span style=\"color: #7f7f7f; text-decoration-color: #7f7f7f\">RequestManager.py:72</span>\n",
       "</pre>\n"
      ],
      "text/plain": [
       "\u001b[2;36m          \u001b[0m\u001b[2;36m \u001b[0m\u001b[34mINFO   \u001b[0m \u001b[2;38;5;249mMainThread - \u001b[0mRequestManager initialized                                     \u001b[2mRequestManager.py\u001b[0m\u001b[2m:\u001b[0m\u001b[2m72\u001b[0m\n"
      ]
     },
     "metadata": {},
     "output_type": "display_data"
    },
    {
     "data": {
      "text/html": [
       "<pre style=\"white-space:pre;overflow-x:auto;line-height:normal;font-family:Menlo,'DejaVu Sans Mono',consolas,'Courier New',monospace\"><span style=\"color: #7fbfbf; text-decoration-color: #7fbfbf\">           </span><span style=\"color: #000080; text-decoration-color: #000080\">INFO   </span> <span style=\"color: #d8d8d8; text-decoration-color: #d8d8d8\">MainThread - </span>SecurityManager initialized                                   <span style=\"color: #7f7f7f; text-decoration-color: #7f7f7f\">SecurityManager.py:32</span>\n",
       "</pre>\n"
      ],
      "text/plain": [
       "\u001b[2;36m          \u001b[0m\u001b[2;36m \u001b[0m\u001b[34mINFO   \u001b[0m \u001b[2;38;5;249mMainThread - \u001b[0mSecurityManager initialized                                   \u001b[2mSecurityManager.py\u001b[0m\u001b[2m:\u001b[0m\u001b[2m32\u001b[0m\n"
      ]
     },
     "metadata": {},
     "output_type": "display_data"
    },
    {
     "data": {
      "text/html": [
       "<pre style=\"white-space:pre;overflow-x:auto;line-height:normal;font-family:Menlo,'DejaVu Sans Mono',consolas,'Courier New',monospace\"><span style=\"color: #7fbfbf; text-decoration-color: #7fbfbf\">           </span><span style=\"color: #000080; text-decoration-color: #000080\">INFO   </span> <span style=\"color: #d8d8d8; text-decoration-color: #d8d8d8\">MainThread - </span>ACP checking ENABLED                                          <span style=\"color: #7f7f7f; text-decoration-color: #7f7f7f\">SecurityManager.py:34</span>\n",
       "</pre>\n"
      ],
      "text/plain": [
       "\u001b[2;36m          \u001b[0m\u001b[2;36m \u001b[0m\u001b[34mINFO   \u001b[0m \u001b[2;38;5;249mMainThread - \u001b[0mACP checking ENABLED                                          \u001b[2mSecurityManager.py\u001b[0m\u001b[2m:\u001b[0m\u001b[2m34\u001b[0m\n"
      ]
     },
     "metadata": {},
     "output_type": "display_data"
    },
    {
     "data": {
      "text/html": [
       "<pre style=\"white-space:pre;overflow-x:auto;line-height:normal;font-family:Menlo,'DejaVu Sans Mono',consolas,'Courier New',monospace\"><span style=\"color: #7fbfbf; text-decoration-color: #7fbfbf\">           </span><span style=\"color: #000080; text-decoration-color: #000080\">INFO   </span> <span style=\"color: #d8d8d8; text-decoration-color: #d8d8d8\">MainThread - </span>Registering http server root at:                                   <span style=\"color: #7f7f7f; text-decoration-color: #7f7f7f\">HttpServer.py:68</span>\n",
       "</pre>\n"
      ],
      "text/plain": [
       "\u001b[2;36m          \u001b[0m\u001b[2;36m \u001b[0m\u001b[34mINFO   \u001b[0m \u001b[2;38;5;249mMainThread - \u001b[0mRegistering http server root at:                                   \u001b[2mHttpServer.py\u001b[0m\u001b[2m:\u001b[0m\u001b[2m68\u001b[0m\n"
      ]
     },
     "metadata": {},
     "output_type": "display_data"
    },
    {
     "data": {
      "text/html": [
       "<pre style=\"white-space:pre;overflow-x:auto;line-height:normal;font-family:Menlo,'DejaVu Sans Mono',consolas,'Courier New',monospace\"><span style=\"color: #7fbfbf; text-decoration-color: #7fbfbf\">           </span><span style=\"color: #000080; text-decoration-color: #000080\">INFO   </span> <span style=\"color: #d8d8d8; text-decoration-color: #d8d8d8\">MainThread - </span>Registering structure endpoint at: /__structure__                  <span style=\"color: #7f7f7f; text-decoration-color: #7f7f7f\">HttpServer.py:92</span>\n",
       "</pre>\n"
      ],
      "text/plain": [
       "\u001b[2;36m          \u001b[0m\u001b[2;36m \u001b[0m\u001b[34mINFO   \u001b[0m \u001b[2;38;5;249mMainThread - \u001b[0mRegistering structure endpoint at: /__structure__                  \u001b[2mHttpServer.py\u001b[0m\u001b[2m:\u001b[0m\u001b[2m92\u001b[0m\n"
      ]
     },
     "metadata": {},
     "output_type": "display_data"
    },
    {
     "data": {
      "text/html": [
       "<pre style=\"white-space:pre;overflow-x:auto;line-height:normal;font-family:Menlo,'DejaVu Sans Mono',consolas,'Courier New',monospace\"><span style=\"color: #7fbfbf; text-decoration-color: #7fbfbf\">           </span><span style=\"color: #000080; text-decoration-color: #000080\">INFO   </span> <span style=\"color: #d8d8d8; text-decoration-color: #d8d8d8\">MainThread - </span>Registering upper tester endpoint at: /__ut__                      <span style=\"color: #7f7f7f; text-decoration-color: #7f7f7f\">HttpServer.py:99</span>\n",
       "</pre>\n"
      ],
      "text/plain": [
       "\u001b[2;36m          \u001b[0m\u001b[2;36m \u001b[0m\u001b[34mINFO   \u001b[0m \u001b[2;38;5;249mMainThread - \u001b[0mRegistering upper tester endpoint at: /__ut__                      \u001b[2mHttpServer.py\u001b[0m\u001b[2m:\u001b[0m\u001b[2m99\u001b[0m\n"
      ]
     },
     "metadata": {},
     "output_type": "display_data"
    },
    {
     "data": {
      "text/html": [
       "<pre style=\"white-space:pre;overflow-x:auto;line-height:normal;font-family:Menlo,'DejaVu Sans Mono',consolas,'Courier New',monospace\"><span style=\"color: #7fbfbf; text-decoration-color: #7fbfbf\">           </span><span style=\"color: #000080; text-decoration-color: #000080\">INFO   </span> <span style=\"color: #d8d8d8; text-decoration-color: #d8d8d8\">MainThread - </span>Registering mapping: /access/v1/devices -&gt;                        <span style=\"color: #7f7f7f; text-decoration-color: #7f7f7f\">HttpServer.py:111</span>\n",
       "<span style=\"color: #7fbfbf; text-decoration-color: #7fbfbf\">           </span>        /cse-mn?ty=14&amp;fu=1&amp;fo=2&amp;rcn=8                                                  <span style=\"color: #7f7f7f; text-decoration-color: #7f7f7f\">                 </span>\n",
       "</pre>\n"
      ],
      "text/plain": [
       "\u001b[2;36m          \u001b[0m\u001b[2;36m \u001b[0m\u001b[34mINFO   \u001b[0m \u001b[2;38;5;249mMainThread - \u001b[0mRegistering mapping: /access/v1/devices ->                        \u001b[2mHttpServer.py\u001b[0m\u001b[2m:\u001b[0m\u001b[2m111\u001b[0m\n",
       "\u001b[2;36m           \u001b[0m        /cse-mn?ty=14&fu=1&fo=2&rcn=8                                                  \u001b[2m                 \u001b[0m\n"
      ]
     },
     "metadata": {},
     "output_type": "display_data"
    },
    {
     "data": {
      "text/html": [
       "<pre style=\"white-space:pre;overflow-x:auto;line-height:normal;font-family:Menlo,'DejaVu Sans Mono',consolas,'Courier New',monospace\"><span style=\"color: #7fbfbf; text-decoration-color: #7fbfbf\">           </span><span style=\"color: #000080; text-decoration-color: #000080\">INFO   </span> <span style=\"color: #d8d8d8; text-decoration-color: #d8d8d8\">MainThread - </span>Registering mapping: /access/v1/apps -&gt;                           <span style=\"color: #7f7f7f; text-decoration-color: #7f7f7f\">HttpServer.py:111</span>\n",
       "<span style=\"color: #7fbfbf; text-decoration-color: #7fbfbf\">           </span>        /id-mn?ty=2&amp;fu=1&amp;fo=2&amp;rcn=8                                                    <span style=\"color: #7f7f7f; text-decoration-color: #7f7f7f\">                 </span>\n",
       "</pre>\n"
      ],
      "text/plain": [
       "\u001b[2;36m          \u001b[0m\u001b[2;36m \u001b[0m\u001b[34mINFO   \u001b[0m \u001b[2;38;5;249mMainThread - \u001b[0mRegistering mapping: /access/v1/apps ->                           \u001b[2mHttpServer.py\u001b[0m\u001b[2m:\u001b[0m\u001b[2m111\u001b[0m\n",
       "\u001b[2;36m           \u001b[0m        /id-mn?ty=2&fu=1&fo=2&rcn=8                                                    \u001b[2m                 \u001b[0m\n"
      ]
     },
     "metadata": {},
     "output_type": "display_data"
    },
    {
     "data": {
      "text/html": [
       "<pre style=\"white-space:pre;overflow-x:auto;line-height:normal;font-family:Menlo,'DejaVu Sans Mono',consolas,'Courier New',monospace\"><span style=\"color: #7fbfbf; text-decoration-color: #7fbfbf\">           </span><span style=\"color: #000080; text-decoration-color: #000080\">INFO   </span> <span style=\"color: #d8d8d8; text-decoration-color: #d8d8d8\">MainThread - </span>Registering mapping: /access/v1/devices/battery -&gt;                <span style=\"color: #7f7f7f; text-decoration-color: #7f7f7f\">HttpServer.py:111</span>\n",
       "<span style=\"color: #7fbfbf; text-decoration-color: #7fbfbf\">           </span>        /id-mn?ty=14&amp;mgd=1006&amp;fu=1&amp;fo=2&amp;rcn=8                                          <span style=\"color: #7f7f7f; text-decoration-color: #7f7f7f\">                 </span>\n",
       "</pre>\n"
      ],
      "text/plain": [
       "\u001b[2;36m          \u001b[0m\u001b[2;36m \u001b[0m\u001b[34mINFO   \u001b[0m \u001b[2;38;5;249mMainThread - \u001b[0mRegistering mapping: /access/v1/devices/battery ->                \u001b[2mHttpServer.py\u001b[0m\u001b[2m:\u001b[0m\u001b[2m111\u001b[0m\n",
       "\u001b[2;36m           \u001b[0m        /id-mn?ty=14&mgd=1006&fu=1&fo=2&rcn=8                                          \u001b[2m                 \u001b[0m\n"
      ]
     },
     "metadata": {},
     "output_type": "display_data"
    },
    {
     "data": {
      "text/html": [
       "<pre style=\"white-space:pre;overflow-x:auto;line-height:normal;font-family:Menlo,'DejaVu Sans Mono',consolas,'Courier New',monospace\"><span style=\"color: #7fbfbf; text-decoration-color: #7fbfbf\">           </span><span style=\"color: #000080; text-decoration-color: #000080\">INFO   </span> <span style=\"color: #d8d8d8; text-decoration-color: #d8d8d8\">MainThread - </span>HTTP Server initialized                                           <span style=\"color: #7f7f7f; text-decoration-color: #7f7f7f\">HttpServer.py:120</span>\n",
       "</pre>\n"
      ],
      "text/plain": [
       "\u001b[2;36m          \u001b[0m\u001b[2;36m \u001b[0m\u001b[34mINFO   \u001b[0m \u001b[2;38;5;249mMainThread - \u001b[0mHTTP Server initialized                                           \u001b[2mHttpServer.py\u001b[0m\u001b[2m:\u001b[0m\u001b[2m120\u001b[0m\n"
      ]
     },
     "metadata": {},
     "output_type": "display_data"
    },
    {
     "data": {
      "text/html": [
       "<pre style=\"white-space:pre;overflow-x:auto;line-height:normal;font-family:Menlo,'DejaVu Sans Mono',consolas,'Courier New',monospace\"><span style=\"color: #7fbfbf; text-decoration-color: #7fbfbf\">           </span><span style=\"color: #000080; text-decoration-color: #000080\">INFO   </span> <span style=\"color: #d8d8d8; text-decoration-color: #d8d8d8\">MainThread - </span>MQTT Client initialized                                           <span style=\"color: #7f7f7f; text-decoration-color: #7f7f7f\">MQTTClient.py:267</span>\n",
       "</pre>\n"
      ],
      "text/plain": [
       "\u001b[2;36m          \u001b[0m\u001b[2;36m \u001b[0m\u001b[34mINFO   \u001b[0m \u001b[2;38;5;249mMainThread - \u001b[0mMQTT Client initialized                                           \u001b[2mMQTTClient.py\u001b[0m\u001b[2m:\u001b[0m\u001b[2m267\u001b[0m\n"
      ]
     },
     "metadata": {},
     "output_type": "display_data"
    },
    {
     "data": {
      "text/html": [
       "<pre style=\"white-space:pre;overflow-x:auto;line-height:normal;font-family:Menlo,'DejaVu Sans Mono',consolas,'Courier New',monospace\"><span style=\"color: #7fbfbf; text-decoration-color: #7fbfbf\">           </span><span style=\"color: #000080; text-decoration-color: #000080\">INFO   </span> <span style=\"color: #d8d8d8; text-decoration-color: #d8d8d8\">MainThread - </span>NotificationManager initialized                           <span style=\"color: #7f7f7f; text-decoration-color: #7f7f7f\">NotificationManager.py:39</span>\n",
       "</pre>\n"
      ],
      "text/plain": [
       "\u001b[2;36m          \u001b[0m\u001b[2;36m \u001b[0m\u001b[34mINFO   \u001b[0m \u001b[2;38;5;249mMainThread - \u001b[0mNotificationManager initialized                           \u001b[2mNotificationManager.py\u001b[0m\u001b[2m:\u001b[0m\u001b[2m39\u001b[0m\n"
      ]
     },
     "metadata": {},
     "output_type": "display_data"
    },
    {
     "data": {
      "text/html": [
       "<pre style=\"white-space:pre;overflow-x:auto;line-height:normal;font-family:Menlo,'DejaVu Sans Mono',consolas,'Courier New',monospace\"><span style=\"color: #7fbfbf; text-decoration-color: #7fbfbf\">           </span><span style=\"color: #000080; text-decoration-color: #000080\">INFO   </span> <span style=\"color: #d8d8d8; text-decoration-color: #d8d8d8\">MainThread - </span>GroupManager initialized                                         <span style=\"color: #7f7f7f; text-decoration-color: #7f7f7f\">GroupManager.py:27</span>\n",
       "</pre>\n"
      ],
      "text/plain": [
       "\u001b[2;36m          \u001b[0m\u001b[2;36m \u001b[0m\u001b[34mINFO   \u001b[0m \u001b[2;38;5;249mMainThread - \u001b[0mGroupManager initialized                                         \u001b[2mGroupManager.py\u001b[0m\u001b[2m:\u001b[0m\u001b[2m27\u001b[0m\n"
      ]
     },
     "metadata": {},
     "output_type": "display_data"
    },
    {
     "data": {
      "text/html": [
       "<pre style=\"white-space:pre;overflow-x:auto;line-height:normal;font-family:Menlo,'DejaVu Sans Mono',consolas,'Courier New',monospace\"><span style=\"color: #7fbfbf; text-decoration-color: #7fbfbf\">           </span><span style=\"color: #000080; text-decoration-color: #000080\">INFO   </span> <span style=\"color: #d8d8d8; text-decoration-color: #d8d8d8\">MainThread - </span>TimeSeriesManager initialized                               <span style=\"color: #7f7f7f; text-decoration-color: #7f7f7f\">TimeSeriesManager.py:28</span>\n",
       "</pre>\n"
      ],
      "text/plain": [
       "\u001b[2;36m          \u001b[0m\u001b[2;36m \u001b[0m\u001b[34mINFO   \u001b[0m \u001b[2;38;5;249mMainThread - \u001b[0mTimeSeriesManager initialized                               \u001b[2mTimeSeriesManager.py\u001b[0m\u001b[2m:\u001b[0m\u001b[2m28\u001b[0m\n"
      ]
     },
     "metadata": {},
     "output_type": "display_data"
    },
    {
     "data": {
      "text/html": [
       "<pre style=\"white-space:pre;overflow-x:auto;line-height:normal;font-family:Menlo,'DejaVu Sans Mono',consolas,'Courier New',monospace\"><span style=\"color: #7fbfbf; text-decoration-color: #7fbfbf\">           </span><span style=\"color: #000080; text-decoration-color: #000080\">INFO   </span> <span style=\"color: #d8d8d8; text-decoration-color: #d8d8d8\">MainThread - </span>RemoteCSEManager initialized                                 <span style=\"color: #7f7f7f; text-decoration-color: #7f7f7f\">RemoteCSEManager.py:53</span>\n",
       "</pre>\n"
      ],
      "text/plain": [
       "\u001b[2;36m          \u001b[0m\u001b[2;36m \u001b[0m\u001b[34mINFO   \u001b[0m \u001b[2;38;5;249mMainThread - \u001b[0mRemoteCSEManager initialized                                 \u001b[2mRemoteCSEManager.py\u001b[0m\u001b[2m:\u001b[0m\u001b[2m53\u001b[0m\n"
      ]
     },
     "metadata": {},
     "output_type": "display_data"
    },
    {
     "data": {
      "text/html": [
       "<pre style=\"white-space:pre;overflow-x:auto;line-height:normal;font-family:Menlo,'DejaVu Sans Mono',consolas,'Courier New',monospace\"><span style=\"color: #7fbfbf; text-decoration-color: #7fbfbf\">           </span><span style=\"color: #000080; text-decoration-color: #000080\">INFO   </span> <span style=\"color: #d8d8d8; text-decoration-color: #d8d8d8\">MainThread - </span>AnnouncementManager initialized                           <span style=\"color: #7f7f7f; text-decoration-color: #7f7f7f\">AnnouncementManager.py:40</span>\n",
       "</pre>\n"
      ],
      "text/plain": [
       "\u001b[2;36m          \u001b[0m\u001b[2;36m \u001b[0m\u001b[34mINFO   \u001b[0m \u001b[2;38;5;249mMainThread - \u001b[0mAnnouncementManager initialized                           \u001b[2mAnnouncementManager.py\u001b[0m\u001b[2m:\u001b[0m\u001b[2m40\u001b[0m\n"
      ]
     },
     "metadata": {},
     "output_type": "display_data"
    },
    {
     "data": {
      "text/html": [
       "<pre style=\"white-space:pre;overflow-x:auto;line-height:normal;font-family:Menlo,'DejaVu Sans Mono',consolas,'Courier New',monospace\"><span style=\"color: #7fbfbf; text-decoration-color: #7fbfbf\">           </span><span style=\"color: #000080; text-decoration-color: #000080\">INFO   </span> <span style=\"color: #d8d8d8; text-decoration-color: #d8d8d8\">MainThread - </span>TimeManager initialized                                           <span style=\"color: #7f7f7f; text-decoration-color: #7f7f7f\">TimeManager.py:45</span>\n",
       "</pre>\n"
      ],
      "text/plain": [
       "\u001b[2;36m          \u001b[0m\u001b[2;36m \u001b[0m\u001b[34mINFO   \u001b[0m \u001b[2;38;5;249mMainThread - \u001b[0mTimeManager initialized                                           \u001b[2mTimeManager.py\u001b[0m\u001b[2m:\u001b[0m\u001b[2m45\u001b[0m\n"
      ]
     },
     "metadata": {},
     "output_type": "display_data"
    },
    {
     "data": {
      "text/html": [
       "<pre style=\"white-space:pre;overflow-x:auto;line-height:normal;font-family:Menlo,'DejaVu Sans Mono',consolas,'Courier New',monospace\"><span style=\"color: #7fbfbf; text-decoration-color: #7fbfbf\">           </span><span style=\"color: #000080; text-decoration-color: #000080\">INFO   </span> <span style=\"color: #d8d8d8; text-decoration-color: #d8d8d8\">MainThread - </span>ScriptManager initialized                                      <span style=\"color: #7f7f7f; text-decoration-color: #7f7f7f\">ScriptManager.py:880</span>\n",
       "</pre>\n"
      ],
      "text/plain": [
       "\u001b[2;36m          \u001b[0m\u001b[2;36m \u001b[0m\u001b[34mINFO   \u001b[0m \u001b[2;38;5;249mMainThread - \u001b[0mScriptManager initialized                                      \u001b[2mScriptManager.py\u001b[0m\u001b[2m:\u001b[0m\u001b[2m880\u001b[0m\n"
      ]
     },
     "metadata": {},
     "output_type": "display_data"
    },
    {
     "data": {
      "text/html": [
       "<pre style=\"white-space:pre;overflow-x:auto;line-height:normal;font-family:Menlo,'DejaVu Sans Mono',consolas,'Courier New',monospace\"><span style=\"color: #7fbfbf; text-decoration-color: #7fbfbf\">           </span><span style=\"color: #000080; text-decoration-color: #000080\">INFO   </span> <span style=\"color: #d8d8d8; text-decoration-color: #d8d8d8\">MainThread - </span>Importer initialized                                                 <span style=\"color: #7f7f7f; text-decoration-color: #7f7f7f\">Importer.py:37</span>\n",
       "</pre>\n"
      ],
      "text/plain": [
       "\u001b[2;36m          \u001b[0m\u001b[2;36m \u001b[0m\u001b[34mINFO   \u001b[0m \u001b[2;38;5;249mMainThread - \u001b[0mImporter initialized                                                 \u001b[2mImporter.py\u001b[0m\u001b[2m:\u001b[0m\u001b[2m37\u001b[0m\n"
      ]
     },
     "metadata": {},
     "output_type": "display_data"
    },
    {
     "data": {
      "text/html": [
       "<pre style=\"white-space:pre;overflow-x:auto;line-height:normal;font-family:Menlo,'DejaVu Sans Mono',consolas,'Courier New',monospace\"><span style=\"color: #7fbfbf; text-decoration-color: #7fbfbf\">           </span><span style=\"color: #000080; text-decoration-color: #000080\">INFO   </span> <span style=\"color: #d8d8d8; text-decoration-color: #d8d8d8\">MainThread - </span>Importing attribute policies from:                                  <span style=\"color: #7f7f7f; text-decoration-color: #7f7f7f\">Importer.py:232</span>\n",
       "<span style=\"color: #7fbfbf; text-decoration-color: #7fbfbf\">           </span>        c:\\Users\\user\\OneDrive\\Bureau\\Test\\Qos-Management\\tools\\ACME/init                <span style=\"color: #7f7f7f; text-decoration-color: #7f7f7f\">               </span>\n",
       "</pre>\n"
      ],
      "text/plain": [
       "\u001b[2;36m          \u001b[0m\u001b[2;36m \u001b[0m\u001b[34mINFO   \u001b[0m \u001b[2;38;5;249mMainThread - \u001b[0mImporting attribute policies from:                                  \u001b[2mImporter.py\u001b[0m\u001b[2m:\u001b[0m\u001b[2m232\u001b[0m\n",
       "\u001b[2;36m           \u001b[0m        c:\\Users\\user\\OneDrive\\Bureau\\Test\\Qos-Management\\tools\\ACME/init                \u001b[2m               \u001b[0m\n"
      ]
     },
     "metadata": {},
     "output_type": "display_data"
    },
    {
     "data": {
      "text/html": [
       "<pre style=\"white-space:pre;overflow-x:auto;line-height:normal;font-family:Menlo,'DejaVu Sans Mono',consolas,'Courier New',monospace\"><span style=\"color: #7fbfbf; text-decoration-color: #7fbfbf\">           </span><span style=\"color: #000080; text-decoration-color: #000080\">INFO   </span> <span style=\"color: #d8d8d8; text-decoration-color: #d8d8d8\">MainThread - </span>Importing policies: attributePolicies.ap                            <span style=\"color: #7f7f7f; text-decoration-color: #7f7f7f\">Importer.py:237</span>\n",
       "</pre>\n"
      ],
      "text/plain": [
       "\u001b[2;36m          \u001b[0m\u001b[2;36m \u001b[0m\u001b[34mINFO   \u001b[0m \u001b[2;38;5;249mMainThread - \u001b[0mImporting policies: attributePolicies.ap                            \u001b[2mImporter.py\u001b[0m\u001b[2m:\u001b[0m\u001b[2m237\u001b[0m\n"
      ]
     },
     "metadata": {},
     "output_type": "display_data"
    },
    {
     "data": {
      "text/html": [
       "<pre style=\"white-space:pre;overflow-x:auto;line-height:normal;font-family:Menlo,'DejaVu Sans Mono',consolas,'Courier New',monospace\"><span style=\"color: #7fbfbf; text-decoration-color: #7fbfbf\">           </span><span style=\"color: #000080; text-decoration-color: #000080\">INFO   </span> <span style=\"color: #d8d8d8; text-decoration-color: #d8d8d8\">MainThread - </span>Importing flexContainer attribute policies from:                    <span style=\"color: #7f7f7f; text-decoration-color: #7f7f7f\">Importer.py:161</span>\n",
       "<span style=\"color: #7fbfbf; text-decoration-color: #7fbfbf\">           </span>        c:\\Users\\user\\OneDrive\\Bureau\\Test\\Qos-Management\\tools\\ACME/init                <span style=\"color: #7f7f7f; text-decoration-color: #7f7f7f\">               </span>\n",
       "</pre>\n"
      ],
      "text/plain": [
       "\u001b[2;36m          \u001b[0m\u001b[2;36m \u001b[0m\u001b[34mINFO   \u001b[0m \u001b[2;38;5;249mMainThread - \u001b[0mImporting flexContainer attribute policies from:                    \u001b[2mImporter.py\u001b[0m\u001b[2m:\u001b[0m\u001b[2m161\u001b[0m\n",
       "\u001b[2;36m           \u001b[0m        c:\\Users\\user\\OneDrive\\Bureau\\Test\\Qos-Management\\tools\\ACME/init                \u001b[2m               \u001b[0m\n"
      ]
     },
     "metadata": {},
     "output_type": "display_data"
    },
    {
     "data": {
      "text/html": [
       "<pre style=\"white-space:pre;overflow-x:auto;line-height:normal;font-family:Menlo,'DejaVu Sans Mono',consolas,'Courier New',monospace\"><span style=\"color: #7fbfbf; text-decoration-color: #7fbfbf\">           </span><span style=\"color: #000080; text-decoration-color: #000080\">INFO   </span> <span style=\"color: #d8d8d8; text-decoration-color: #d8d8d8\">MainThread - </span>Assigning attribute policies to resource types                      <span style=\"color: #7f7f7f; text-decoration-color: #7f7f7f\">Importer.py:295</span>\n",
       "</pre>\n"
      ],
      "text/plain": [
       "\u001b[2;36m          \u001b[0m\u001b[2;36m \u001b[0m\u001b[34mINFO   \u001b[0m \u001b[2;38;5;249mMainThread - \u001b[0mAssigning attribute policies to resource types                      \u001b[2mImporter.py\u001b[0m\u001b[2m:\u001b[0m\u001b[2m295\u001b[0m\n"
      ]
     },
     "metadata": {},
     "output_type": "display_data"
    },
    {
     "data": {
      "text/html": [
       "<pre style=\"white-space:pre;overflow-x:auto;line-height:normal;font-family:Menlo,'DejaVu Sans Mono',consolas,'Courier New',monospace\"><span style=\"color: #7fbfbf; text-decoration-color: #7fbfbf\">           </span><span style=\"color: #000080; text-decoration-color: #000080\">INFO   </span> <span style=\"color: #d8d8d8; text-decoration-color: #d8d8d8\">MainThread - </span>Importing scripts from directories:                                  <span style=\"color: #7f7f7f; text-decoration-color: #7f7f7f\">Importer.py:92</span>\n",
       "<span style=\"color: #7fbfbf; text-decoration-color: #7fbfbf\">           </span>        c:\\Users\\user\\OneDrive\\Bureau\\Test\\Qos-Management\\tools\\ACME/init                 <span style=\"color: #7f7f7f; text-decoration-color: #7f7f7f\">              </span>\n",
       "</pre>\n"
      ],
      "text/plain": [
       "\u001b[2;36m          \u001b[0m\u001b[2;36m \u001b[0m\u001b[34mINFO   \u001b[0m \u001b[2;38;5;249mMainThread - \u001b[0mImporting scripts from directories:                                  \u001b[2mImporter.py\u001b[0m\u001b[2m:\u001b[0m\u001b[2m92\u001b[0m\n",
       "\u001b[2;36m           \u001b[0m        c:\\Users\\user\\OneDrive\\Bureau\\Test\\Qos-Management\\tools\\ACME/init                 \u001b[2m              \u001b[0m\n"
      ]
     },
     "metadata": {},
     "output_type": "display_data"
    },
    {
     "data": {
      "text/html": [
       "<pre style=\"white-space:pre;overflow-x:auto;line-height:normal;font-family:Menlo,'DejaVu Sans Mono',consolas,'Courier New',monospace\"><span style=\"color: #7fbfbf; text-decoration-color: #7fbfbf\">           </span><span style=\"color: #000080; text-decoration-color: #000080\">INFO   </span> <span style=\"color: #d8d8d8; text-decoration-color: #d8d8d8\">MainThread - </span>Running boostrap script: startup                                    <span style=\"color: #7f7f7f; text-decoration-color: #7f7f7f\">Importer.py:108</span>\n",
       "</pre>\n"
      ],
      "text/plain": [
       "\u001b[2;36m          \u001b[0m\u001b[2;36m \u001b[0m\u001b[34mINFO   \u001b[0m \u001b[2;38;5;249mMainThread - \u001b[0mRunning boostrap script: startup                                    \u001b[2mImporter.py\u001b[0m\u001b[2m:\u001b[0m\u001b[2m108\u001b[0m\n"
      ]
     },
     "metadata": {},
     "output_type": "display_data"
    },
    {
     "data": {
      "text/html": [
       "<pre style=\"white-space:pre;overflow-x:auto;line-height:normal;font-family:Menlo,'DejaVu Sans Mono',consolas,'Courier New',monospace\"><span style=\"color: #7fbfbf; text-decoration-color: #7fbfbf\">           </span><span style=\"color: #000080; text-decoration-color: #000080\">INFO   </span> <span style=\"color: #d8d8d8; text-decoration-color: #d8d8d8\">MainThread - </span>Importing scripts from directories:                                  <span style=\"color: #7f7f7f; text-decoration-color: #7f7f7f\">Importer.py:92</span>\n",
       "<span style=\"color: #7fbfbf; text-decoration-color: #7fbfbf\">           </span>        [<span style=\"color: #008000; text-decoration-color: #008000\">'c:\\\\Users\\\\user\\\\OneDrive\\\\Bureau\\\\Test\\\\Qos-Management\\\\tools\\\\ACME/../ACMEScr</span> <span style=\"color: #7f7f7f; text-decoration-color: #7f7f7f\">              </span>\n",
       "<span style=\"color: #7fbfbf; text-decoration-color: #7fbfbf\">           </span>        <span style=\"color: #008000; text-decoration-color: #008000\">ipt'</span>]                                                                             <span style=\"color: #7f7f7f; text-decoration-color: #7f7f7f\">              </span>\n",
       "</pre>\n"
      ],
      "text/plain": [
       "\u001b[2;36m          \u001b[0m\u001b[2;36m \u001b[0m\u001b[34mINFO   \u001b[0m \u001b[2;38;5;249mMainThread - \u001b[0mImporting scripts from directories:                                  \u001b[2mImporter.py\u001b[0m\u001b[2m:\u001b[0m\u001b[2m92\u001b[0m\n",
       "\u001b[2;36m           \u001b[0m        [\u001b[32m'c:\\\\Users\\\\user\\\\OneDrive\\\\Bureau\\\\Test\\\\Qos-Management\\\\tools\\\\ACME/../ACMEScr\u001b[0m \u001b[2m              \u001b[0m\n",
       "\u001b[2;36m           \u001b[0m        \u001b[32mipt'\u001b[0m]                                                                             \u001b[2m              \u001b[0m\n"
      ]
     },
     "metadata": {},
     "output_type": "display_data"
    },
    {
     "data": {
      "text/html": [
       "<pre style=\"white-space:pre;overflow-x:auto;line-height:normal;font-family:Menlo,'DejaVu Sans Mono',consolas,'Courier New',monospace\"><span style=\"color: #7fbfbf; text-decoration-color: #7fbfbf\">           </span><span style=\"color: #000080; text-decoration-color: #000080\">INFO   </span> <span style=\"color: #d8d8d8; text-decoration-color: #d8d8d8\">MainThread - </span>Resources already imported, skipping boostrap                       <span style=\"color: #7f7f7f; text-decoration-color: #7f7f7f\">Importer.py:104</span>\n",
       "</pre>\n"
      ],
      "text/plain": [
       "\u001b[2;36m          \u001b[0m\u001b[2;36m \u001b[0m\u001b[34mINFO   \u001b[0m \u001b[2;38;5;249mMainThread - \u001b[0mResources already imported, skipping boostrap                       \u001b[2mImporter.py\u001b[0m\u001b[2m:\u001b[0m\u001b[2m104\u001b[0m\n"
      ]
     },
     "metadata": {},
     "output_type": "display_data"
    },
    {
     "data": {
      "text/html": [
       "<pre style=\"white-space:pre;overflow-x:auto;line-height:normal;font-family:Menlo,'DejaVu Sans Mono',consolas,'Courier New',monospace\"><span style=\"color: #7fbfbf; text-decoration-color: #7fbfbf\">[19:39:54] </span><span style=\"color: #000080; text-decoration-color: #000080\">INFO   </span> <span style=\"color: #d8d8d8; text-decoration-color: #d8d8d8\">MQTTClient - </span>MQTT: client started                                        <span style=\"color: #7f7f7f; text-decoration-color: #7f7f7f\">BackgroundWorker.py:281</span>\n",
       "</pre>\n"
      ],
      "text/plain": [
       "\u001b[2;36m[19:39:54]\u001b[0m\u001b[2;36m \u001b[0m\u001b[34mINFO   \u001b[0m \u001b[2;38;5;249mMQTTClient - \u001b[0mMQTT: client started                                        \u001b[2mBackgroundWorker.py\u001b[0m\u001b[2m:\u001b[0m\u001b[2m281\u001b[0m\n"
      ]
     },
     "metadata": {},
     "output_type": "display_data"
    },
    {
     "data": {
      "text/html": [
       "<pre style=\"white-space:pre;overflow-x:auto;line-height:normal;font-family:Menlo,'DejaVu Sans Mono',consolas,'Courier New',monospace\"><span style=\"color: #137e6d; text-decoration-color: #137e6d\">Press ? for help                                                                                                   </span>\n",
       "</pre>\n"
      ],
      "text/plain": [
       "\u001b[38;2;19;126;109mPress ? for help\u001b[0m\u001b[38;2;19;126;109m                                                                                                   \u001b[0m\n"
      ]
     },
     "metadata": {},
     "output_type": "display_data"
    },
    {
     "data": {
      "text/html": [
       "<pre style=\"white-space:pre;overflow-x:auto;line-height:normal;font-family:Menlo,'DejaVu Sans Mono',consolas,'Courier New',monospace\"><span style=\"color: #7fbfbf; text-decoration-color: #7fbfbf\">[19:39:55] </span><span style=\"color: #000080; text-decoration-color: #000080\">INFO   </span> <span style=\"color: #d8d8d8; text-decoration-color: #d8d8d8; font-style: italic\">None</span><span style=\"color: #d8d8d8; text-decoration-color: #d8d8d8\">       - </span>Starting remote CSE connection monitor                       <span style=\"color: #7f7f7f; text-decoration-color: #7f7f7f\">RemoteCSEManager.py:91</span>\n",
       "</pre>\n"
      ],
      "text/plain": [
       "\u001b[2;36m[19:39:55]\u001b[0m\u001b[2;36m \u001b[0m\u001b[34mINFO   \u001b[0m \u001b[2;3;38;5;249mNone\u001b[0m\u001b[2;38;5;249m       - \u001b[0mStarting remote CSE connection monitor                       \u001b[2mRemoteCSEManager.py\u001b[0m\u001b[2m:\u001b[0m\u001b[2m91\u001b[0m\n"
      ]
     },
     "metadata": {},
     "output_type": "display_data"
    },
    {
     "data": {
      "text/html": [
       "<pre style=\"white-space:pre;overflow-x:auto;line-height:normal;font-family:Menlo,'DejaVu Sans Mono',consolas,'Courier New',monospace\"><span style=\"color: #137e6d; text-decoration-color: #137e6d\">CSE started                                                                                                        </span>\n",
       "</pre>\n"
      ],
      "text/plain": [
       "\u001b[38;2;19;126;109mCSE started\u001b[0m\u001b[38;2;19;126;109m                                                                                                        \u001b[0m\n"
      ]
     },
     "metadata": {},
     "output_type": "display_data"
    },
    {
     "data": {
      "text/html": [
       "<pre style=\"white-space:pre;overflow-x:auto;line-height:normal;font-family:Menlo,'DejaVu Sans Mono',consolas,'Courier New',monospace\"><span style=\"color: #7fbfbf; text-decoration-color: #7fbfbf\">[19:39:56] </span><span style=\"color: #000080; text-decoration-color: #000080\">INFO   </span> Delayed st - CSE started                                                              <span style=\"color: #7f7f7f; text-decoration-color: #7f7f7f\">CSE.py:189</span>\n",
       "</pre>\n"
      ],
      "text/plain": [
       "\u001b[2;36m[19:39:56]\u001b[0m\u001b[2;36m \u001b[0m\u001b[34mINFO   \u001b[0m Delayed st - CSE started                                                              \u001b[2mCSE.py\u001b[0m\u001b[2m:\u001b[0m\u001b[2m189\u001b[0m\n"
      ]
     },
     "metadata": {},
     "output_type": "display_data"
    },
    {
     "data": {
      "text/html": [
       "<pre style=\"white-space:pre;overflow-x:auto;line-height:normal;font-family:Menlo,'DejaVu Sans Mono',consolas,'Courier New',monospace\"><span style=\"color: #7fbfbf; text-decoration-color: #7fbfbf\">[19:40:16] </span><span style=\"color: #000080; text-decoration-color: #000080\">INFO   </span> <span style=\"color: #d8d8d8; text-decoration-color: #d8d8d8\">28216      - </span>HttpServer paused                                                 <span style=\"color: #7f7f7f; text-decoration-color: #7f7f7f\">HttpServer.py:141</span>\n",
       "</pre>\n"
      ],
      "text/plain": [
       "\u001b[2;36m[19:40:16]\u001b[0m\u001b[2;36m \u001b[0m\u001b[34mINFO   \u001b[0m \u001b[2;38;5;249m28216      - \u001b[0mHttpServer paused                                                 \u001b[2mHttpServer.py\u001b[0m\u001b[2m:\u001b[0m\u001b[2m141\u001b[0m\n"
      ]
     },
     "metadata": {},
     "output_type": "display_data"
    },
    {
     "data": {
      "text/html": [
       "<pre style=\"white-space:pre;overflow-x:auto;line-height:normal;font-family:Menlo,'DejaVu Sans Mono',consolas,'Courier New',monospace\"><span style=\"color: #7fbfbf; text-decoration-color: #7fbfbf\">           </span><span style=\"color: #000080; text-decoration-color: #000080\">INFO   </span> <span style=\"color: #d8d8d8; text-decoration-color: #d8d8d8\">28216      - </span>MqttClient paused                                                 <span style=\"color: #7f7f7f; text-decoration-color: #7f7f7f\">MQTTClient.py:296</span>\n",
       "</pre>\n"
      ],
      "text/plain": [
       "\u001b[2;36m          \u001b[0m\u001b[2;36m \u001b[0m\u001b[34mINFO   \u001b[0m \u001b[2;38;5;249m28216      - \u001b[0mMqttClient paused                                                 \u001b[2mMQTTClient.py\u001b[0m\u001b[2m:\u001b[0m\u001b[2m296\u001b[0m\n"
      ]
     },
     "metadata": {},
     "output_type": "display_data"
    },
    {
     "data": {
      "text/html": [
       "<pre style=\"white-space:pre;overflow-x:auto;line-height:normal;font-family:Menlo,'DejaVu Sans Mono',consolas,'Courier New',monospace\"><span style=\"color: #7fbfbf; text-decoration-color: #7fbfbf\">           </span><span style=\"color: #000080; text-decoration-color: #000080\">INFO   </span> <span style=\"color: #d8d8d8; text-decoration-color: #d8d8d8\">28216      - </span>Purging DBs                                                          <span style=\"color: #7f7f7f; text-decoration-color: #7f7f7f\">Storage.py:400</span>\n",
       "</pre>\n"
      ],
      "text/plain": [
       "\u001b[2;36m          \u001b[0m\u001b[2;36m \u001b[0m\u001b[34mINFO   \u001b[0m \u001b[2;38;5;249m28216      - \u001b[0mPurging DBs                                                          \u001b[2mStorage.py\u001b[0m\u001b[2m:\u001b[0m\u001b[2m400\u001b[0m\n"
      ]
     },
     "metadata": {},
     "output_type": "display_data"
    },
    {
     "data": {
      "text/html": [
       "<pre style=\"white-space:pre;overflow-x:auto;line-height:normal;font-family:Menlo,'DejaVu Sans Mono',consolas,'Courier New',monospace\"><span style=\"color: #7fbfbf; text-decoration-color: #7fbfbf\">           </span><span style=\"color: #000080; text-decoration-color: #000080\">INFO   </span> <span style=\"color: #d8d8d8; text-decoration-color: #d8d8d8\">28216      - </span>Importing attribute policies from:                                  <span style=\"color: #7f7f7f; text-decoration-color: #7f7f7f\">Importer.py:232</span>\n",
       "<span style=\"color: #7fbfbf; text-decoration-color: #7fbfbf\">           </span>        c:\\Users\\user\\OneDrive\\Bureau\\Test\\Qos-Management\\tools\\ACME/init                <span style=\"color: #7f7f7f; text-decoration-color: #7f7f7f\">               </span>\n",
       "</pre>\n"
      ],
      "text/plain": [
       "\u001b[2;36m          \u001b[0m\u001b[2;36m \u001b[0m\u001b[34mINFO   \u001b[0m \u001b[2;38;5;249m28216      - \u001b[0mImporting attribute policies from:                                  \u001b[2mImporter.py\u001b[0m\u001b[2m:\u001b[0m\u001b[2m232\u001b[0m\n",
       "\u001b[2;36m           \u001b[0m        c:\\Users\\user\\OneDrive\\Bureau\\Test\\Qos-Management\\tools\\ACME/init                \u001b[2m               \u001b[0m\n"
      ]
     },
     "metadata": {},
     "output_type": "display_data"
    },
    {
     "data": {
      "text/html": [
       "<pre style=\"white-space:pre;overflow-x:auto;line-height:normal;font-family:Menlo,'DejaVu Sans Mono',consolas,'Courier New',monospace\"><span style=\"color: #7fbfbf; text-decoration-color: #7fbfbf\">           </span><span style=\"color: #000080; text-decoration-color: #000080\">INFO   </span> <span style=\"color: #d8d8d8; text-decoration-color: #d8d8d8\">28216      - </span>Importing policies: attributePolicies.ap                            <span style=\"color: #7f7f7f; text-decoration-color: #7f7f7f\">Importer.py:237</span>\n",
       "</pre>\n"
      ],
      "text/plain": [
       "\u001b[2;36m          \u001b[0m\u001b[2;36m \u001b[0m\u001b[34mINFO   \u001b[0m \u001b[2;38;5;249m28216      - \u001b[0mImporting policies: attributePolicies.ap                            \u001b[2mImporter.py\u001b[0m\u001b[2m:\u001b[0m\u001b[2m237\u001b[0m\n"
      ]
     },
     "metadata": {},
     "output_type": "display_data"
    },
    {
     "data": {
      "text/html": [
       "<pre style=\"white-space:pre;overflow-x:auto;line-height:normal;font-family:Menlo,'DejaVu Sans Mono',consolas,'Courier New',monospace\"><span style=\"color: #7fbfbf; text-decoration-color: #7fbfbf\">           </span><span style=\"color: #d78700; text-decoration-color: #d78700\">WARNING</span> <span style=\"color: #d8d8d8; text-decoration-color: #d8d8d8\">28216      - </span>Resetting CSE started                                                    <span style=\"color: #7f7f7f; text-decoration-color: #7f7f7f\">CSE.py:264</span>\n",
       "</pre>\n"
      ],
      "text/plain": [
       "\u001b[2;36m          \u001b[0m\u001b[2;36m \u001b[0m\u001b[38;5;172mWARNING\u001b[0m \u001b[2;38;5;249m28216      - \u001b[0mResetting CSE started                                                    \u001b[2mCSE.py\u001b[0m\u001b[2m:\u001b[0m\u001b[2m264\u001b[0m\n"
      ]
     },
     "metadata": {},
     "output_type": "display_data"
    },
    {
     "data": {
      "text/html": [
       "<pre style=\"white-space:pre;overflow-x:auto;line-height:normal;font-family:Menlo,'DejaVu Sans Mono',consolas,'Courier New',monospace\"><span style=\"color: #7fbfbf; text-decoration-color: #7fbfbf\">           </span><span style=\"color: #000080; text-decoration-color: #000080\">INFO   </span> <span style=\"color: #d8d8d8; text-decoration-color: #d8d8d8\">28216      - </span>Importing flexContainer attribute policies from:                    <span style=\"color: #7f7f7f; text-decoration-color: #7f7f7f\">Importer.py:161</span>\n",
       "<span style=\"color: #7fbfbf; text-decoration-color: #7fbfbf\">           </span>        c:\\Users\\user\\OneDrive\\Bureau\\Test\\Qos-Management\\tools\\ACME/init                <span style=\"color: #7f7f7f; text-decoration-color: #7f7f7f\">               </span>\n",
       "</pre>\n"
      ],
      "text/plain": [
       "\u001b[2;36m          \u001b[0m\u001b[2;36m \u001b[0m\u001b[34mINFO   \u001b[0m \u001b[2;38;5;249m28216      - \u001b[0mImporting flexContainer attribute policies from:                    \u001b[2mImporter.py\u001b[0m\u001b[2m:\u001b[0m\u001b[2m161\u001b[0m\n",
       "\u001b[2;36m           \u001b[0m        c:\\Users\\user\\OneDrive\\Bureau\\Test\\Qos-Management\\tools\\ACME/init                \u001b[2m               \u001b[0m\n"
      ]
     },
     "metadata": {},
     "output_type": "display_data"
    },
    {
     "data": {
      "text/html": [
       "<pre style=\"white-space:pre;overflow-x:auto;line-height:normal;font-family:Menlo,'DejaVu Sans Mono',consolas,'Courier New',monospace\"><span style=\"color: #7fbfbf; text-decoration-color: #7fbfbf\">[19:40:17] </span><span style=\"color: #000080; text-decoration-color: #000080\">INFO   </span> <span style=\"color: #d8d8d8; text-decoration-color: #d8d8d8\">28216      - </span>Assigning attribute policies to resource types                      <span style=\"color: #7f7f7f; text-decoration-color: #7f7f7f\">Importer.py:295</span>\n",
       "</pre>\n"
      ],
      "text/plain": [
       "\u001b[2;36m[19:40:17]\u001b[0m\u001b[2;36m \u001b[0m\u001b[34mINFO   \u001b[0m \u001b[2;38;5;249m28216      - \u001b[0mAssigning attribute policies to resource types                      \u001b[2mImporter.py\u001b[0m\u001b[2m:\u001b[0m\u001b[2m295\u001b[0m\n"
      ]
     },
     "metadata": {},
     "output_type": "display_data"
    },
    {
     "data": {
      "text/html": [
       "<pre style=\"white-space:pre;overflow-x:auto;line-height:normal;font-family:Menlo,'DejaVu Sans Mono',consolas,'Courier New',monospace\"><span style=\"color: #7fbfbf; text-decoration-color: #7fbfbf\">           </span><span style=\"color: #000080; text-decoration-color: #000080\">INFO   </span> <span style=\"color: #d8d8d8; text-decoration-color: #d8d8d8\">28216      - </span>Importing scripts from directories:                                  <span style=\"color: #7f7f7f; text-decoration-color: #7f7f7f\">Importer.py:92</span>\n",
       "<span style=\"color: #7fbfbf; text-decoration-color: #7fbfbf\">           </span>        c:\\Users\\user\\OneDrive\\Bureau\\Test\\Qos-Management\\tools\\ACME/init                 <span style=\"color: #7f7f7f; text-decoration-color: #7f7f7f\">              </span>\n",
       "</pre>\n"
      ],
      "text/plain": [
       "\u001b[2;36m          \u001b[0m\u001b[2;36m \u001b[0m\u001b[34mINFO   \u001b[0m \u001b[2;38;5;249m28216      - \u001b[0mImporting scripts from directories:                                  \u001b[2mImporter.py\u001b[0m\u001b[2m:\u001b[0m\u001b[2m92\u001b[0m\n",
       "\u001b[2;36m           \u001b[0m        c:\\Users\\user\\OneDrive\\Bureau\\Test\\Qos-Management\\tools\\ACME/init                 \u001b[2m              \u001b[0m\n"
      ]
     },
     "metadata": {},
     "output_type": "display_data"
    },
    {
     "data": {
      "text/html": [
       "<pre style=\"white-space:pre;overflow-x:auto;line-height:normal;font-family:Menlo,'DejaVu Sans Mono',consolas,'Courier New',monospace\"><span style=\"color: #7fbfbf; text-decoration-color: #7fbfbf\">           </span><span style=\"color: #000080; text-decoration-color: #000080\">INFO   </span> <span style=\"color: #d8d8d8; text-decoration-color: #d8d8d8\">28216      - </span>Running boostrap script: startup                                    <span style=\"color: #7f7f7f; text-decoration-color: #7f7f7f\">Importer.py:108</span>\n",
       "</pre>\n"
      ],
      "text/plain": [
       "\u001b[2;36m          \u001b[0m\u001b[2;36m \u001b[0m\u001b[34mINFO   \u001b[0m \u001b[2;38;5;249m28216      - \u001b[0mRunning boostrap script: startup                                    \u001b[2mImporter.py\u001b[0m\u001b[2m:\u001b[0m\u001b[2m108\u001b[0m\n"
      ]
     },
     "metadata": {},
     "output_type": "display_data"
    },
    {
     "data": {
      "text/html": [
       "<pre style=\"white-space:pre;overflow-x:auto;line-height:normal;font-family:Menlo,'DejaVu Sans Mono',consolas,'Courier New',monospace\"><span style=\"color: #7fbfbf; text-decoration-color: #7fbfbf\">           </span><span style=\"color: #000080; text-decoration-color: #000080\">INFO   </span> <span style=\"color: #d8d8d8; text-decoration-color: #d8d8d8\">28216      - </span>Importing scripts from directories:                                  <span style=\"color: #7f7f7f; text-decoration-color: #7f7f7f\">Importer.py:92</span>\n",
       "<span style=\"color: #7fbfbf; text-decoration-color: #7fbfbf\">           </span>        [<span style=\"color: #008000; text-decoration-color: #008000\">'c:\\\\Users\\\\user\\\\OneDrive\\\\Bureau\\\\Test\\\\Qos-Management\\\\tools\\\\ACME/../ACMEScr</span> <span style=\"color: #7f7f7f; text-decoration-color: #7f7f7f\">              </span>\n",
       "<span style=\"color: #7fbfbf; text-decoration-color: #7fbfbf\">           </span>        <span style=\"color: #008000; text-decoration-color: #008000\">ipt'</span>]                                                                             <span style=\"color: #7f7f7f; text-decoration-color: #7f7f7f\">              </span>\n",
       "</pre>\n"
      ],
      "text/plain": [
       "\u001b[2;36m          \u001b[0m\u001b[2;36m \u001b[0m\u001b[34mINFO   \u001b[0m \u001b[2;38;5;249m28216      - \u001b[0mImporting scripts from directories:                                  \u001b[2mImporter.py\u001b[0m\u001b[2m:\u001b[0m\u001b[2m92\u001b[0m\n",
       "\u001b[2;36m           \u001b[0m        [\u001b[32m'c:\\\\Users\\\\user\\\\OneDrive\\\\Bureau\\\\Test\\\\Qos-Management\\\\tools\\\\ACME/../ACMEScr\u001b[0m \u001b[2m              \u001b[0m\n",
       "\u001b[2;36m           \u001b[0m        \u001b[32mipt'\u001b[0m]                                                                             \u001b[2m              \u001b[0m\n"
      ]
     },
     "metadata": {},
     "output_type": "display_data"
    },
    {
     "data": {
      "text/html": [
       "<pre style=\"white-space:pre;overflow-x:auto;line-height:normal;font-family:Menlo,'DejaVu Sans Mono',consolas,'Courier New',monospace\"><span style=\"color: #7fbfbf; text-decoration-color: #7fbfbf\">           </span><span style=\"color: #000080; text-decoration-color: #000080\">INFO   </span> <span style=\"color: #d8d8d8; text-decoration-color: #d8d8d8\">28216      - </span>Resources already imported, skipping boostrap                       <span style=\"color: #7f7f7f; text-decoration-color: #7f7f7f\">Importer.py:104</span>\n",
       "</pre>\n"
      ],
      "text/plain": [
       "\u001b[2;36m          \u001b[0m\u001b[2;36m \u001b[0m\u001b[34mINFO   \u001b[0m \u001b[2;38;5;249m28216      - \u001b[0mResources already imported, skipping boostrap                       \u001b[2mImporter.py\u001b[0m\u001b[2m:\u001b[0m\u001b[2m104\u001b[0m\n"
      ]
     },
     "metadata": {},
     "output_type": "display_data"
    },
    {
     "data": {
      "text/html": [
       "<pre style=\"white-space:pre;overflow-x:auto;line-height:normal;font-family:Menlo,'DejaVu Sans Mono',consolas,'Courier New',monospace\"><span style=\"color: #7fbfbf; text-decoration-color: #7fbfbf\">           </span><span style=\"color: #000080; text-decoration-color: #000080\">INFO   </span> <span style=\"color: #d8d8d8; text-decoration-color: #d8d8d8\">28216      - </span>MqttClient unpaused                                               <span style=\"color: #7f7f7f; text-decoration-color: #7f7f7f\">MQTTClient.py:303</span>\n",
       "</pre>\n"
      ],
      "text/plain": [
       "\u001b[2;36m          \u001b[0m\u001b[2;36m \u001b[0m\u001b[34mINFO   \u001b[0m \u001b[2;38;5;249m28216      - \u001b[0mMqttClient unpaused                                               \u001b[2mMQTTClient.py\u001b[0m\u001b[2m:\u001b[0m\u001b[2m303\u001b[0m\n"
      ]
     },
     "metadata": {},
     "output_type": "display_data"
    },
    {
     "data": {
      "text/html": [
       "<pre style=\"white-space:pre;overflow-x:auto;line-height:normal;font-family:Menlo,'DejaVu Sans Mono',consolas,'Courier New',monospace\"><span style=\"color: #7fbfbf; text-decoration-color: #7fbfbf\">           </span><span style=\"color: #000080; text-decoration-color: #000080\">INFO   </span> <span style=\"color: #d8d8d8; text-decoration-color: #d8d8d8\">28216      - </span>HttpServer unpaused                                               <span style=\"color: #7f7f7f; text-decoration-color: #7f7f7f\">HttpServer.py:148</span>\n",
       "</pre>\n"
      ],
      "text/plain": [
       "\u001b[2;36m          \u001b[0m\u001b[2;36m \u001b[0m\u001b[34mINFO   \u001b[0m \u001b[2;38;5;249m28216      - \u001b[0mHttpServer unpaused                                               \u001b[2mHttpServer.py\u001b[0m\u001b[2m:\u001b[0m\u001b[2m148\u001b[0m\n"
      ]
     },
     "metadata": {},
     "output_type": "display_data"
    },
    {
     "data": {
      "text/html": [
       "<pre style=\"white-space:pre;overflow-x:auto;line-height:normal;font-family:Menlo,'DejaVu Sans Mono',consolas,'Courier New',monospace\"><span style=\"color: #7fbfbf; text-decoration-color: #7fbfbf\">           </span><span style=\"color: #d78700; text-decoration-color: #d78700\">WARNING</span> <span style=\"color: #d8d8d8; text-decoration-color: #d8d8d8\">28216      - </span>Resetting CSE finished                                                   <span style=\"color: #7f7f7f; text-decoration-color: #7f7f7f\">CSE.py:292</span>\n",
       "</pre>\n"
      ],
      "text/plain": [
       "\u001b[2;36m          \u001b[0m\u001b[2;36m \u001b[0m\u001b[38;5;172mWARNING\u001b[0m \u001b[2;38;5;249m28216      - \u001b[0mResetting CSE finished                                                   \u001b[2mCSE.py\u001b[0m\u001b[2m:\u001b[0m\u001b[2m292\u001b[0m\n"
      ]
     },
     "metadata": {},
     "output_type": "display_data"
    },
    {
     "data": {
      "text/html": [
       "<pre style=\"white-space:pre;overflow-x:auto;line-height:normal;font-family:Menlo,'DejaVu Sans Mono',consolas,'Courier New',monospace\"></pre>\n"
      ],
      "text/plain": []
     },
     "metadata": {},
     "output_type": "display_data"
    },
    {
     "data": {
      "text/html": [
       "<pre style=\"white-space:pre;overflow-x:auto;line-height:normal;font-family:Menlo,'DejaVu Sans Mono',consolas,'Courier New',monospace\"></pre>\n"
      ],
      "text/plain": []
     },
     "metadata": {},
     "output_type": "display_data"
    },
    {
     "data": {
      "text/html": [
       "<pre style=\"white-space:pre;overflow-x:auto;line-height:normal;font-family:Menlo,'DejaVu Sans Mono',consolas,'Courier New',monospace\"></pre>\n"
      ],
      "text/plain": []
     },
     "metadata": {},
     "output_type": "display_data"
    },
    {
     "data": {
      "text/html": [
       "<pre style=\"white-space:pre;overflow-x:auto;line-height:normal;font-family:Menlo,'DejaVu Sans Mono',consolas,'Courier New',monospace\"></pre>\n"
      ],
      "text/plain": []
     },
     "metadata": {},
     "output_type": "display_data"
    },
    {
     "data": {
      "text/html": [
       "<pre style=\"white-space:pre;overflow-x:auto;line-height:normal;font-family:Menlo,'DejaVu Sans Mono',consolas,'Courier New',monospace\"></pre>\n"
      ],
      "text/plain": []
     },
     "metadata": {},
     "output_type": "display_data"
    },
    {
     "data": {
      "text/html": [
       "<pre style=\"white-space:pre;overflow-x:auto;line-height:normal;font-family:Menlo,'DejaVu Sans Mono',consolas,'Courier New',monospace\"></pre>\n"
      ],
      "text/plain": []
     },
     "metadata": {},
     "output_type": "display_data"
    },
    {
     "data": {
      "text/html": [
       "<pre style=\"white-space:pre;overflow-x:auto;line-height:normal;font-family:Menlo,'DejaVu Sans Mono',consolas,'Courier New',monospace\"></pre>\n"
      ],
      "text/plain": []
     },
     "metadata": {},
     "output_type": "display_data"
    },
    {
     "data": {
      "text/html": [
       "<pre style=\"white-space:pre;overflow-x:auto;line-height:normal;font-family:Menlo,'DejaVu Sans Mono',consolas,'Courier New',monospace\"></pre>\n"
      ],
      "text/plain": []
     },
     "metadata": {},
     "output_type": "display_data"
    },
    {
     "data": {
      "text/html": [
       "<pre style=\"white-space:pre;overflow-x:auto;line-height:normal;font-family:Menlo,'DejaVu Sans Mono',consolas,'Courier New',monospace\"></pre>\n"
      ],
      "text/plain": []
     },
     "metadata": {},
     "output_type": "display_data"
    },
    {
     "data": {
      "text/html": [
       "<pre style=\"white-space:pre;overflow-x:auto;line-height:normal;font-family:Menlo,'DejaVu Sans Mono',consolas,'Courier New',monospace\"></pre>\n"
      ],
      "text/plain": []
     },
     "metadata": {},
     "output_type": "display_data"
    },
    {
     "data": {
      "text/html": [
       "<pre style=\"white-space:pre;overflow-x:auto;line-height:normal;font-family:Menlo,'DejaVu Sans Mono',consolas,'Courier New',monospace\"></pre>\n"
      ],
      "text/plain": []
     },
     "metadata": {},
     "output_type": "display_data"
    },
    {
     "data": {
      "text/html": [
       "<pre style=\"white-space:pre;overflow-x:auto;line-height:normal;font-family:Menlo,'DejaVu Sans Mono',consolas,'Courier New',monospace\"></pre>\n"
      ],
      "text/plain": []
     },
     "metadata": {},
     "output_type": "display_data"
    },
    {
     "data": {
      "text/html": [
       "<pre style=\"white-space:pre;overflow-x:auto;line-height:normal;font-family:Menlo,'DejaVu Sans Mono',consolas,'Courier New',monospace\"></pre>\n"
      ],
      "text/plain": []
     },
     "metadata": {},
     "output_type": "display_data"
    },
    {
     "data": {
      "text/html": [
       "<pre style=\"white-space:pre;overflow-x:auto;line-height:normal;font-family:Menlo,'DejaVu Sans Mono',consolas,'Courier New',monospace\"></pre>\n"
      ],
      "text/plain": []
     },
     "metadata": {},
     "output_type": "display_data"
    },
    {
     "data": {
      "text/html": [
       "<pre style=\"white-space:pre;overflow-x:auto;line-height:normal;font-family:Menlo,'DejaVu Sans Mono',consolas,'Courier New',monospace\"></pre>\n"
      ],
      "text/plain": []
     },
     "metadata": {},
     "output_type": "display_data"
    },
    {
     "data": {
      "text/html": [
       "<pre style=\"white-space:pre;overflow-x:auto;line-height:normal;font-family:Menlo,'DejaVu Sans Mono',consolas,'Courier New',monospace\"></pre>\n"
      ],
      "text/plain": []
     },
     "metadata": {},
     "output_type": "display_data"
    },
    {
     "data": {
      "text/html": [
       "<pre style=\"white-space:pre;overflow-x:auto;line-height:normal;font-family:Menlo,'DejaVu Sans Mono',consolas,'Courier New',monospace\"></pre>\n"
      ],
      "text/plain": []
     },
     "metadata": {},
     "output_type": "display_data"
    },
    {
     "data": {
      "text/html": [
       "<pre style=\"white-space:pre;overflow-x:auto;line-height:normal;font-family:Menlo,'DejaVu Sans Mono',consolas,'Courier New',monospace\"></pre>\n"
      ],
      "text/plain": []
     },
     "metadata": {},
     "output_type": "display_data"
    },
    {
     "data": {
      "text/html": [
       "<pre style=\"white-space:pre;overflow-x:auto;line-height:normal;font-family:Menlo,'DejaVu Sans Mono',consolas,'Courier New',monospace\"></pre>\n"
      ],
      "text/plain": []
     },
     "metadata": {},
     "output_type": "display_data"
    },
    {
     "data": {
      "text/html": [
       "<pre style=\"white-space:pre;overflow-x:auto;line-height:normal;font-family:Menlo,'DejaVu Sans Mono',consolas,'Courier New',monospace\"></pre>\n"
      ],
      "text/plain": []
     },
     "metadata": {},
     "output_type": "display_data"
    },
    {
     "data": {
      "text/html": [
       "<pre style=\"white-space:pre;overflow-x:auto;line-height:normal;font-family:Menlo,'DejaVu Sans Mono',consolas,'Courier New',monospace\"></pre>\n"
      ],
      "text/plain": []
     },
     "metadata": {},
     "output_type": "display_data"
    },
    {
     "data": {
      "text/html": [
       "<pre style=\"white-space:pre;overflow-x:auto;line-height:normal;font-family:Menlo,'DejaVu Sans Mono',consolas,'Courier New',monospace\"></pre>\n"
      ],
      "text/plain": []
     },
     "metadata": {},
     "output_type": "display_data"
    },
    {
     "data": {
      "text/html": [
       "<pre style=\"white-space:pre;overflow-x:auto;line-height:normal;font-family:Menlo,'DejaVu Sans Mono',consolas,'Courier New',monospace\"></pre>\n"
      ],
      "text/plain": []
     },
     "metadata": {},
     "output_type": "display_data"
    },
    {
     "data": {
      "text/html": [
       "<pre style=\"white-space:pre;overflow-x:auto;line-height:normal;font-family:Menlo,'DejaVu Sans Mono',consolas,'Courier New',monospace\"></pre>\n"
      ],
      "text/plain": []
     },
     "metadata": {},
     "output_type": "display_data"
    },
    {
     "data": {
      "text/html": [
       "<pre style=\"white-space:pre;overflow-x:auto;line-height:normal;font-family:Menlo,'DejaVu Sans Mono',consolas,'Courier New',monospace\"></pre>\n"
      ],
      "text/plain": []
     },
     "metadata": {},
     "output_type": "display_data"
    },
    {
     "data": {
      "text/html": [
       "<pre style=\"white-space:pre;overflow-x:auto;line-height:normal;font-family:Menlo,'DejaVu Sans Mono',consolas,'Courier New',monospace\"></pre>\n"
      ],
      "text/plain": []
     },
     "metadata": {},
     "output_type": "display_data"
    },
    {
     "data": {
      "text/html": [
       "<pre style=\"white-space:pre;overflow-x:auto;line-height:normal;font-family:Menlo,'DejaVu Sans Mono',consolas,'Courier New',monospace\"></pre>\n"
      ],
      "text/plain": []
     },
     "metadata": {},
     "output_type": "display_data"
    },
    {
     "data": {
      "text/html": [
       "<pre style=\"white-space:pre;overflow-x:auto;line-height:normal;font-family:Menlo,'DejaVu Sans Mono',consolas,'Courier New',monospace\"></pre>\n"
      ],
      "text/plain": []
     },
     "metadata": {},
     "output_type": "display_data"
    },
    {
     "data": {
      "text/html": [
       "<pre style=\"white-space:pre;overflow-x:auto;line-height:normal;font-family:Menlo,'DejaVu Sans Mono',consolas,'Courier New',monospace\"></pre>\n"
      ],
      "text/plain": []
     },
     "metadata": {},
     "output_type": "display_data"
    },
    {
     "data": {
      "text/html": [
       "<pre style=\"white-space:pre;overflow-x:auto;line-height:normal;font-family:Menlo,'DejaVu Sans Mono',consolas,'Courier New',monospace\"></pre>\n"
      ],
      "text/plain": []
     },
     "metadata": {},
     "output_type": "display_data"
    },
    {
     "data": {
      "text/html": [
       "<pre style=\"white-space:pre;overflow-x:auto;line-height:normal;font-family:Menlo,'DejaVu Sans Mono',consolas,'Courier New',monospace\"></pre>\n"
      ],
      "text/plain": []
     },
     "metadata": {},
     "output_type": "display_data"
    },
    {
     "data": {
      "text/html": [
       "<pre style=\"white-space:pre;overflow-x:auto;line-height:normal;font-family:Menlo,'DejaVu Sans Mono',consolas,'Courier New',monospace\"></pre>\n"
      ],
      "text/plain": []
     },
     "metadata": {},
     "output_type": "display_data"
    },
    {
     "data": {
      "text/html": [
       "<pre style=\"white-space:pre;overflow-x:auto;line-height:normal;font-family:Menlo,'DejaVu Sans Mono',consolas,'Courier New',monospace\"></pre>\n"
      ],
      "text/plain": []
     },
     "metadata": {},
     "output_type": "display_data"
    },
    {
     "data": {
      "text/html": [
       "<pre style=\"white-space:pre;overflow-x:auto;line-height:normal;font-family:Menlo,'DejaVu Sans Mono',consolas,'Courier New',monospace\"></pre>\n"
      ],
      "text/plain": []
     },
     "metadata": {},
     "output_type": "display_data"
    },
    {
     "data": {
      "text/html": [
       "<pre style=\"white-space:pre;overflow-x:auto;line-height:normal;font-family:Menlo,'DejaVu Sans Mono',consolas,'Courier New',monospace\"></pre>\n"
      ],
      "text/plain": []
     },
     "metadata": {},
     "output_type": "display_data"
    },
    {
     "data": {
      "text/html": [
       "<pre style=\"white-space:pre;overflow-x:auto;line-height:normal;font-family:Menlo,'DejaVu Sans Mono',consolas,'Courier New',monospace\"></pre>\n"
      ],
      "text/plain": []
     },
     "metadata": {},
     "output_type": "display_data"
    },
    {
     "data": {
      "text/html": [
       "<pre style=\"white-space:pre;overflow-x:auto;line-height:normal;font-family:Menlo,'DejaVu Sans Mono',consolas,'Courier New',monospace\"></pre>\n"
      ],
      "text/plain": []
     },
     "metadata": {},
     "output_type": "display_data"
    },
    {
     "data": {
      "text/html": [
       "<pre style=\"white-space:pre;overflow-x:auto;line-height:normal;font-family:Menlo,'DejaVu Sans Mono',consolas,'Courier New',monospace\"></pre>\n"
      ],
      "text/plain": []
     },
     "metadata": {},
     "output_type": "display_data"
    },
    {
     "data": {
      "text/html": [
       "<pre style=\"white-space:pre;overflow-x:auto;line-height:normal;font-family:Menlo,'DejaVu Sans Mono',consolas,'Courier New',monospace\"></pre>\n"
      ],
      "text/plain": []
     },
     "metadata": {},
     "output_type": "display_data"
    },
    {
     "data": {
      "text/html": [
       "<pre style=\"white-space:pre;overflow-x:auto;line-height:normal;font-family:Menlo,'DejaVu Sans Mono',consolas,'Courier New',monospace\"></pre>\n"
      ],
      "text/plain": []
     },
     "metadata": {},
     "output_type": "display_data"
    },
    {
     "data": {
      "text/html": [
       "<pre style=\"white-space:pre;overflow-x:auto;line-height:normal;font-family:Menlo,'DejaVu Sans Mono',consolas,'Courier New',monospace\"></pre>\n"
      ],
      "text/plain": []
     },
     "metadata": {},
     "output_type": "display_data"
    },
    {
     "data": {
      "text/html": [
       "<pre style=\"white-space:pre;overflow-x:auto;line-height:normal;font-family:Menlo,'DejaVu Sans Mono',consolas,'Courier New',monospace\"></pre>\n"
      ],
      "text/plain": []
     },
     "metadata": {},
     "output_type": "display_data"
    },
    {
     "data": {
      "text/html": [
       "<pre style=\"white-space:pre;overflow-x:auto;line-height:normal;font-family:Menlo,'DejaVu Sans Mono',consolas,'Courier New',monospace\"></pre>\n"
      ],
      "text/plain": []
     },
     "metadata": {},
     "output_type": "display_data"
    },
    {
     "data": {
      "text/html": [
       "<pre style=\"white-space:pre;overflow-x:auto;line-height:normal;font-family:Menlo,'DejaVu Sans Mono',consolas,'Courier New',monospace\"></pre>\n"
      ],
      "text/plain": []
     },
     "metadata": {},
     "output_type": "display_data"
    },
    {
     "data": {
      "text/html": [
       "<pre style=\"white-space:pre;overflow-x:auto;line-height:normal;font-family:Menlo,'DejaVu Sans Mono',consolas,'Courier New',monospace\"></pre>\n"
      ],
      "text/plain": []
     },
     "metadata": {},
     "output_type": "display_data"
    },
    {
     "data": {
      "text/html": [
       "<pre style=\"white-space:pre;overflow-x:auto;line-height:normal;font-family:Menlo,'DejaVu Sans Mono',consolas,'Courier New',monospace\"></pre>\n"
      ],
      "text/plain": []
     },
     "metadata": {},
     "output_type": "display_data"
    },
    {
     "data": {
      "text/html": [
       "<pre style=\"white-space:pre;overflow-x:auto;line-height:normal;font-family:Menlo,'DejaVu Sans Mono',consolas,'Courier New',monospace\"></pre>\n"
      ],
      "text/plain": []
     },
     "metadata": {},
     "output_type": "display_data"
    },
    {
     "data": {
      "text/html": [
       "<pre style=\"white-space:pre;overflow-x:auto;line-height:normal;font-family:Menlo,'DejaVu Sans Mono',consolas,'Courier New',monospace\"></pre>\n"
      ],
      "text/plain": []
     },
     "metadata": {},
     "output_type": "display_data"
    },
    {
     "data": {
      "text/html": [
       "<pre style=\"white-space:pre;overflow-x:auto;line-height:normal;font-family:Menlo,'DejaVu Sans Mono',consolas,'Courier New',monospace\"></pre>\n"
      ],
      "text/plain": []
     },
     "metadata": {},
     "output_type": "display_data"
    },
    {
     "data": {
      "text/html": [
       "<pre style=\"white-space:pre;overflow-x:auto;line-height:normal;font-family:Menlo,'DejaVu Sans Mono',consolas,'Courier New',monospace\"></pre>\n"
      ],
      "text/plain": []
     },
     "metadata": {},
     "output_type": "display_data"
    },
    {
     "data": {
      "text/html": [
       "<pre style=\"white-space:pre;overflow-x:auto;line-height:normal;font-family:Menlo,'DejaVu Sans Mono',consolas,'Courier New',monospace\"></pre>\n"
      ],
      "text/plain": []
     },
     "metadata": {},
     "output_type": "display_data"
    },
    {
     "data": {
      "text/html": [
       "<pre style=\"white-space:pre;overflow-x:auto;line-height:normal;font-family:Menlo,'DejaVu Sans Mono',consolas,'Courier New',monospace\"></pre>\n"
      ],
      "text/plain": []
     },
     "metadata": {},
     "output_type": "display_data"
    },
    {
     "data": {
      "text/html": [
       "<pre style=\"white-space:pre;overflow-x:auto;line-height:normal;font-family:Menlo,'DejaVu Sans Mono',consolas,'Courier New',monospace\"></pre>\n"
      ],
      "text/plain": []
     },
     "metadata": {},
     "output_type": "display_data"
    },
    {
     "data": {
      "text/html": [
       "<pre style=\"white-space:pre;overflow-x:auto;line-height:normal;font-family:Menlo,'DejaVu Sans Mono',consolas,'Courier New',monospace\"></pre>\n"
      ],
      "text/plain": []
     },
     "metadata": {},
     "output_type": "display_data"
    },
    {
     "data": {
      "text/html": [
       "<pre style=\"white-space:pre;overflow-x:auto;line-height:normal;font-family:Menlo,'DejaVu Sans Mono',consolas,'Courier New',monospace\"></pre>\n"
      ],
      "text/plain": []
     },
     "metadata": {},
     "output_type": "display_data"
    },
    {
     "data": {
      "text/html": [
       "<pre style=\"white-space:pre;overflow-x:auto;line-height:normal;font-family:Menlo,'DejaVu Sans Mono',consolas,'Courier New',monospace\"></pre>\n"
      ],
      "text/plain": []
     },
     "metadata": {},
     "output_type": "display_data"
    },
    {
     "data": {
      "text/html": [
       "<pre style=\"white-space:pre;overflow-x:auto;line-height:normal;font-family:Menlo,'DejaVu Sans Mono',consolas,'Courier New',monospace\"></pre>\n"
      ],
      "text/plain": []
     },
     "metadata": {},
     "output_type": "display_data"
    }
   ],
   "source": [
    "# Increase the width of the notebook to accomodate the log output\n",
    "from IPython.display import display, HTML\n",
    "display(HTML(\"<style>.container { width:100% !important; }</style>\"))\n",
    "\n",
    "# Change to the CSE's directory and start the CSE\n",
    "# Ignore the error from the %cd command\n",
    "%cd -q tools/ACME\n",
    "%run -m acme "
   ]
  },
  {
   "cell_type": "code",
   "execution_count": 8,
   "metadata": {},
   "outputs": [
    {
     "name": "stdout",
     "output_type": "stream",
     "text": [
      "\n",
      "Pinging serverless-ala-tenant-8ae0f29969e4b0a0.elb.us-east-1.amazonaws.com [34.201.86.118] with 32 bytes of data:\n",
      "Request timed out.\n",
      "Request timed out.\n",
      "Request timed out.\n",
      "Request timed out.\n",
      "\n",
      "Ping statistics for 34.201.86.118:\n",
      "    Packets: Sent = 4, Received = 0, Lost = 4 (100% loss),\n"
     ]
    }
   ],
   "source": [
    "!ping efd3d6db.ala.us-east-1.emqxsl.com\n"
   ]
  },
  {
   "cell_type": "markdown",
   "metadata": {},
   "source": [
    "## Stopping the CSE\n",
    "\n",
    "Only one instance of the CSE can run at a time. To stop it you need to *restart* this notebook's kernel from the menu above.\n",
    "\n",
    "<p>\n",
    "<div  style=\"background-color:transparent;border:2px #005480 solid;padding: 10px;width: calc(100% - 350px);border-radius:10px;\">\n",
    "    <div style=\"color:#005480;\"><b><i class=\"fa fa-info-circle\" aria-hidden=\"true\"></i>&nbsp; Note</b></div>\n",
    "    <div style=\"color:#545054;\">\n",
    "Please be patient. The CSE might take a few seconds to startup and shutdown.    </div>\n",
    "    </div>\n",
    "</div>\n",
    "</p>\n",
    "\n",
    "\n",
    "\n",
    "Afterwards you may need to restart the kernel from the menu.\n",
    "\n",
    "## CSE WebUI\n",
    "\n",
    "The CSE has a WebUI that allows you to see the CSE's resource tree and resources' details.\n",
    "\n",
    "It is available at [http://localhost:8080/webui](http://localhost:8080/webui) .\n",
    "\n",
    "<p>\n",
    "<div  style=\"background-color:transparent;border:2px #005480 solid;padding: 10px;width: calc(100% - 350px);border-radius:10px;\">\n",
    "    <div style=\"color:#005480;\"><b><i class=\"fa fa-info-circle\" aria-hidden=\"true\"></i>&nbsp; Note</b></div>\n",
    "    <div style=\"color:#545054;\">\n",
    "        Please note, that the web UI doesn't work when running on MyBinder.\n",
    "    </div>\n",
    "</div>\n",
    "</p>\n",
    "\n",
    "## Changing the Log Level\n",
    "For these notebooks the CSE is configured to run in headless mode, which means it will not produce any runtime messages. This is done for better readability.\n",
    "\n",
    "To get more verbose output to see how commands are processed inside the CSE you can replace the last line in the code cell above with the following command\n",
    "\n",
    "    %run -m acme -- --log-level debug\n",
    "\n",
    "\n",
    "&nbsp;"
   ]
  }
 ],
 "metadata": {
  "kernelspec": {
   "display_name": "Python 3 (ipykernel)",
   "language": "python",
   "name": "python3"
  },
  "language_info": {
   "codemirror_mode": {
    "name": "ipython",
    "version": 3
   },
   "file_extension": ".py",
   "mimetype": "text/x-python",
   "name": "python",
   "nbconvert_exporter": "python",
   "pygments_lexer": "ipython3",
   "version": "3.10.6"
  }
 },
 "nbformat": 4,
 "nbformat_minor": 4
}
