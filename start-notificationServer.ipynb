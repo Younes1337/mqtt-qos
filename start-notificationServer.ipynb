{
 "cells": [
  {
   "cell_type": "markdown",
   "metadata": {},
   "source": [
    "<img style=\"float: right; padding: 10px;\" width=\"200\" src=\"images/logo-onem2m-the-iot-standard.jpg\">\n",
    "\n",
    "\n",
    "# oneM2M - Subscriptions and Notifications - Notification Server\n",
    "\n",
    "This notebook runs a small webserver to receive notifications from a CSE.\n",
    "\n",
    "\n",
    "## Setup and Run a Notification Server\n",
    "\n",
    "In order to subscribe to notifications one must run a notification server that receives two kind of requests:\n",
    "\n",
    "- Whenever a new &lt;Subscription> is created a verification request is send to the notification server to check the validity of the subscription.\n",
    "- For every monitored change of a resource the server is contacted and the changes are pushed to the notification server.m\n",
    "\n",
    "For a simple implementation (always acknowledge the requests described above), the notification server must set the response header field *X-M2M-RSC* to *2000*.\n"
   ]
  },
  {
   "cell_type": "code",
   "execution_count": 1,
   "metadata": {},
   "outputs": [
    {
     "data": {
      "text/html": [
       "<style>.container { width:100% !important; }</style>"
      ],
      "text/plain": [
       "<IPython.core.display.HTML object>"
      ]
     },
     "metadata": {},
     "output_type": "display_data"
    },
    {
     "data": {
      "text/html": [
       "<pre style=\"white-space:pre;overflow-x:auto;line-height:normal;font-family:Menlo,'DejaVu Sans Mono',consolas,'Courier New',monospace\">\n",
       "<span style=\"color: #7f7f7f; text-decoration-color: #7f7f7f; font-weight: bold\">[</span><span style=\"color: #800000; text-decoration-color: #800000; font-style: italic\">ACME</span><span style=\"color: #7f7f7f; text-decoration-color: #7f7f7f; font-weight: bold\">]</span> - <span style=\"font-weight: bold\">Notification Server</span>\n",
       "\n",
       "\n",
       "</pre>\n"
      ],
      "text/plain": [
       "\n",
       "\u001b[1;2m[\u001b[0m\u001b[3;31mACME\u001b[0m\u001b[1;2m]\u001b[0m - \u001b[1mNotification Server\u001b[0m\n",
       "\n",
       "\n"
      ]
     },
     "metadata": {},
     "output_type": "display_data"
    },
    {
     "data": {
      "text/html": [
       "<pre style=\"white-space:pre;overflow-x:auto;line-height:normal;font-family:Menlo,'DejaVu Sans Mono',consolas,'Courier New',monospace\"><span style=\"color: #00ff5f; text-decoration-color: #00ff5f\">Notification server started.</span>\n",
       "</pre>\n"
      ],
      "text/plain": [
       "\u001b[38;5;47mNotification server started.\u001b[0m\n"
      ]
     },
     "metadata": {},
     "output_type": "display_data"
    },
    {
     "data": {
      "text/html": [
       "<pre style=\"white-space:pre;overflow-x:auto;line-height:normal;font-family:Menlo,'DejaVu Sans Mono',consolas,'Courier New',monospace\"><span style=\"color: #00ff5f; text-decoration-color: #00ff5f\">Listening for </span><span style=\"color: #00ff5f; text-decoration-color: #00ff5f; font-weight: bold\">http(</span><span style=\"color: #00ff5f; text-decoration-color: #00ff5f\">s</span><span style=\"color: #00ff5f; text-decoration-color: #00ff5f; font-weight: bold\">)</span><span style=\"color: #00ff5f; text-decoration-color: #00ff5f\"> connections on port </span><span style=\"color: #00ff5f; text-decoration-color: #00ff5f; font-weight: bold\">9999</span><span style=\"color: #00ff5f; text-decoration-color: #00ff5f\">.</span>\n",
       "</pre>\n"
      ],
      "text/plain": [
       "\u001b[38;5;47mListening for \u001b[0m\u001b[1;38;5;47mhttp\u001b[0m\u001b[1;38;5;47m(\u001b[0m\u001b[38;5;47ms\u001b[0m\u001b[1;38;5;47m)\u001b[0m\u001b[38;5;47m connections on port \u001b[0m\u001b[1;38;5;47m9999\u001b[0m\u001b[38;5;47m.\u001b[0m\n"
      ]
     },
     "metadata": {},
     "output_type": "display_data"
    }
   ],
   "source": [
    "# Increase the width of the notebook to accomodate the log output\n",
    "from IPython.display import display, HTML\n",
    "display(HTML(\"<style>.container { width:100% !important; }</style>\"))\n",
    "\n",
    "# change to the CSE's directory and start the CSE\n",
    "%cd -q tools/NotificationServer\n",
    "%run ./NotificationServer.py"
   ]
  },
  {
   "cell_type": "markdown",
   "metadata": {},
   "source": [
    "<p>\n",
    "<div  style=\"background-color:transparent;border:2px #005480 solid;padding: 10px;width: calc(100% - 350px);border-radius:10px;\">\n",
    "    <div style=\"color:#005480;\"><b><i class=\"fa fa-info-circle\" aria-hidden=\"true\"></i>&nbsp; Note</b></div>\n",
    "    <div style=\"color:#545054;\">\n",
    "    If you see an error like <em>[Errno 48] Address already in use</em> then please restart the kernel for this notebook.\n",
    "    </div>\n",
    "</div>\n",
    "</p>\n",
    "\n",
    "\n",
    "\n",
    "## The following attributes can be part of notification:\n",
    "\n",
    "- **cr**  : The originator (creator) of the original request.\n",
    "- **net** : Notification Event Type for this specific request.\n",
    "- **nev** : This attribute indicates and represents that a request is a Notification Event.\n",
    "- **rep** : The Representation attribute contains the resource(s) that was changed and caused the notification. Usually it contains the whole resource for further processing by the notification server.\n",
    "- **sud** : A Subscription Deletion attribute indicates whether this request signals the deletion of a subscription.\n",
    "- **sur** : The Subscription Resource attribute contains the resource identifier of the assocsubiated &lt;subscription>.\n",
    "- **vrq** : When this attribute is present and set to *true* then a request is a Verification Request.\n",
    "\n",
    "## Stopping the Notification Server\n",
    "\n",
    "Only one instance of the Notification Server can run at a time. To stop it just *restart* the notebook's kernel.  \n",
    "\n",
    "<div class=\"alert alert-block alert-info\" style=\"background-color: white; border: 2px solid; padding: 10px; width:80%;border-radius:10px;\">\n",
    "    <b><i class=\"fa fa-info-circle\" aria-hidden=\"true\"></i>&nbsp; Note</b><br>\n",
    "\n",
    "Please be patient. The NotificationServer might take a few seconds to shutdown.\n",
    "</div>\n",
    "\n",
    "\n"
   ]
  }
 ],
 "metadata": {
  "kernelspec": {
   "display_name": "Python 3 (ipykernel)",
   "language": "python",
   "name": "python3"
  },
  "language_info": {
   "codemirror_mode": {
    "name": "ipython",
    "version": 3
   },
   "file_extension": ".py",
   "mimetype": "text/x-python",
   "name": "python",
   "nbconvert_exporter": "python",
   "pygments_lexer": "ipython3",
   "version": "3.10.6"
  }
 },
 "nbformat": 4,
 "nbformat_minor": 4
}
