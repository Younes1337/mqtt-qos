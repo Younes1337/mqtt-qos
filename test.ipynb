{
 "cells": [
  {
   "cell_type": "code",
   "execution_count": 9,
   "metadata": {},
   "outputs": [
    {
     "name": "stderr",
     "output_type": "stream",
     "text": [
      "WARNING: Ignoring invalid distribution -atplotlib (c:\\users\\user\\appdata\\local\\programs\\python\\python310\\lib\\site-packages)\n",
      "ERROR: Could not find a version that satisfies the requirement ACME-oneM2M-CSE (from versions: none)\n",
      "ERROR: No matching distribution found for ACME-oneM2M-CSE\n",
      "\n",
      "[notice] A new release of pip is available: 23.2.1 -> 23.3.2\n",
      "[notice] To update, run: python.exe -m pip install --upgrade pip\n"
     ]
    }
   ],
   "source": [
    "!pip install ACME-oneM2M-CSE"
   ]
  },
  {
   "cell_type": "code",
   "execution_count": 8,
   "metadata": {},
   "outputs": [
    {
     "ename": "ModuleNotFoundError",
     "evalue": "No module named 'ACME_oneM2M_CSE'",
     "output_type": "error",
     "traceback": [
      "\u001b[1;31m---------------------------------------------------------------------------\u001b[0m",
      "\u001b[1;31mModuleNotFoundError\u001b[0m                       Traceback (most recent call last)",
      "Cell \u001b[1;32mIn[8], line 1\u001b[0m\n\u001b[1;32m----> 1\u001b[0m \u001b[38;5;28;01mfrom\u001b[39;00m \u001b[38;5;21;01mACME_oneM2M_CSE\u001b[39;00m\u001b[38;5;21;01m.\u001b[39;00m\u001b[38;5;21;01mapi\u001b[39;00m \u001b[38;5;28;01mimport\u001b[39;00m CSEBase\n\u001b[0;32m      3\u001b[0m \u001b[38;5;66;03m# Set up the CSEBase object\u001b[39;00m\n\u001b[0;32m      4\u001b[0m cse_base \u001b[38;5;241m=\u001b[39m CSEBase(\n\u001b[0;32m      5\u001b[0m     host\u001b[38;5;241m=\u001b[39m\u001b[38;5;124m'\u001b[39m\u001b[38;5;124m127.0.0.1\u001b[39m\u001b[38;5;124m'\u001b[39m,  \u001b[38;5;66;03m# Replace with the actual host of your CSE\u001b[39;00m\n\u001b[0;32m      6\u001b[0m     port\u001b[38;5;241m=\u001b[39m\u001b[38;5;124m'\u001b[39m\u001b[38;5;124m8080\u001b[39m\u001b[38;5;124m'\u001b[39m,       \u001b[38;5;66;03m# Replace with the actual port of your CSE\u001b[39;00m\n\u001b[0;32m      7\u001b[0m     cse\u001b[38;5;241m=\u001b[39m\u001b[38;5;124m'\u001b[39m\u001b[38;5;124mid-in\u001b[39m\u001b[38;5;124m'\u001b[39m        \u001b[38;5;66;03m# Replace with the actual CSE ID\u001b[39;00m\n\u001b[0;32m      8\u001b[0m )\n",
      "\u001b[1;31mModuleNotFoundError\u001b[0m: No module named 'ACME_oneM2M_CSE'"
     ]
    }
   ],
   "source": [
    "from ACME_oneM2M_CSE.api import CSEBase\n",
    "\n",
    "# Set up the CSEBase object\n",
    "cse_base = CSEBase(\n",
    "    host='127.0.0.1',  # Replace with the actual host of your CSE\n",
    "    port='8080',       # Replace with the actual port of your CSE\n",
    "    cse='id-in'        # Replace with the actual CSE ID\n",
    ")\n",
    "\n",
    "# Access the container resource\n",
    "container_path = '/cse-in/TempSensor/Container/cin_003fAWU6hw'\n",
    "\n",
    "container = cse_base.retrieve_resource(container_path)\n",
    "# Use 'container' to interact with the specific container resource\n"
   ]
  }
 ],
 "metadata": {
  "kernelspec": {
   "display_name": "Python 3",
   "language": "python",
   "name": "python3"
  },
  "language_info": {
   "codemirror_mode": {
    "name": "ipython",
    "version": 3
   },
   "file_extension": ".py",
   "mimetype": "text/x-python",
   "name": "python",
   "nbconvert_exporter": "python",
   "pygments_lexer": "ipython3",
   "version": "3.10.6"
  }
 },
 "nbformat": 4,
 "nbformat_minor": 2
}
